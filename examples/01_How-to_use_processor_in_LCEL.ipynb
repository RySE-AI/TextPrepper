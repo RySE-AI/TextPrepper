{
 "cells": [
  {
   "cell_type": "code",
   "execution_count": 14,
   "metadata": {},
   "outputs": [],
   "source": [
    "from textprepper.modifiers import LowerText, SpellChecking\n",
    "from textprepper import DocumentPreprocessorPipe\n",
    "\n",
    "from langchain.prompts import ChatPromptTemplate\n",
    "from langchain_core.runnables import chain, RunnableLambda, RunnablePassthrough"
   ]
  },
  {
   "cell_type": "markdown",
   "metadata": {},
   "source": [
    "# How to use a preprocessor in a LCEL chain\n",
    "\n",
    "- Use case: If you want to manipulate the query of the user like checking the spelling beforehand"
   ]
  },
  {
   "cell_type": "code",
   "execution_count": 53,
   "metadata": {},
   "outputs": [],
   "source": [
    "dummy_example_instruct = \"\"\"Answer the question\n",
    "Question: {question}\n",
    "\"\"\"\n",
    "dummy_prompt = ChatPromptTemplate.from_template(dummy_example_instruct)"
   ]
  },
  {
   "cell_type": "markdown",
   "metadata": {},
   "source": [
    "## Options to build LCEL's Chains\n",
    "\n",
    "Please keep in mind:\n",
    "\n",
    "<b>The Input of a preprocessor must be a langchain Document or a string!</b>\n",
    "Otherwise it will raise a ValueError."
   ]
  },
  {
   "cell_type": "markdown",
   "metadata": {},
   "source": [
    "#### 1. Option Direct"
   ]
  },
  {
   "cell_type": "code",
   "execution_count": 64,
   "metadata": {},
   "outputs": [
    {
     "name": "stdout",
     "output_type": "stream",
     "text": [
      "Answer the question\n",
      "Question: This is a simple mistake\n",
      "\n"
     ]
    }
   ],
   "source": [
    "dummy_question = \"This is a simple misteke\" # mistEke\n",
    "lcel_chain = RunnablePassthrough() | SpellChecking() | dummy_prompt \n",
    "print(lcel_chain.invoke(dummy_question).messages[0].content)"
   ]
  },
  {
   "cell_type": "markdown",
   "metadata": {},
   "source": [
    "#### 2. Option with RunnableLambda\n",
    "- It's the same like option 1, because it's not the first item in the chain"
   ]
  },
  {
   "cell_type": "code",
   "execution_count": 65,
   "metadata": {},
   "outputs": [
    {
     "name": "stdout",
     "output_type": "stream",
     "text": [
      "Answer the question\n",
      "Question: This is a simple mistake\n",
      "\n"
     ]
    }
   ],
   "source": [
    "lower_lambda = RunnableLambda(SpellChecking())\n",
    "lcel_chain =  RunnablePassthrough() | lower_lambda | dummy_prompt\n",
    "print(lcel_chain.invoke(dummy_question).messages[0].content)"
   ]
  },
  {
   "cell_type": "markdown",
   "metadata": {},
   "source": [
    "#### 3. Option with chain decorator \n",
    "\n",
    "- Helpful if you're wrapped your input/intermediate outputs in a dictionary "
   ]
  },
  {
   "cell_type": "code",
   "execution_count": 66,
   "metadata": {},
   "outputs": [],
   "source": [
    "@chain\n",
    "def processor(input: dict):\n",
    "    text = input[\"question\"]\n",
    "    return SpellChecking()(text)"
   ]
  },
  {
   "cell_type": "code",
   "execution_count": 67,
   "metadata": {},
   "outputs": [
    {
     "name": "stdout",
     "output_type": "stream",
     "text": [
      "Answer the question\n",
      "Question: This is a simple mistake\n",
      "\n"
     ]
    }
   ],
   "source": [
    "lcel_chain = {\"question\": RunnablePassthrough()} | processor | dummy_prompt\n",
    "print(lcel_chain.invoke(dummy_question).messages[0].content)"
   ]
  },
  {
   "cell_type": "markdown",
   "metadata": {},
   "source": [
    "### 4. Option with DocumentPipe"
   ]
  },
  {
   "cell_type": "code",
   "execution_count": 63,
   "metadata": {},
   "outputs": [
    {
     "name": "stdout",
     "output_type": "stream",
     "text": [
      "Answer the question\n",
      "Question: this is a simple mistake\n",
      "\n"
     ]
    }
   ],
   "source": [
    "pipe = DocumentPreprocessorPipe([LowerText(), SpellChecking()])\n",
    "lcel_chain = RunnablePassthrough() | pipe | dummy_prompt \n",
    "print(lcel_chain.invoke(dummy_question).messages[0].content)"
   ]
  }
 ],
 "metadata": {
  "kernelspec": {
   "display_name": "textprepper-a_Do2pGY-py3.11",
   "language": "python",
   "name": "python3"
  },
  "language_info": {
   "codemirror_mode": {
    "name": "ipython",
    "version": 3
   },
   "file_extension": ".py",
   "mimetype": "text/x-python",
   "name": "python",
   "nbconvert_exporter": "python",
   "pygments_lexer": "ipython3",
   "version": "3.11.7"
  }
 },
 "nbformat": 4,
 "nbformat_minor": 2
}
