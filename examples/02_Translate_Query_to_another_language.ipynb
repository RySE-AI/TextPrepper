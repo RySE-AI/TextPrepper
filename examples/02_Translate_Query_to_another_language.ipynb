{
 "cells": [
  {
   "cell_type": "markdown",
   "metadata": {},
   "source": [
    "# How to use a preprocessor in a retrieval chain"
   ]
  },
  {
   "cell_type": "code",
   "execution_count": 1,
   "metadata": {},
   "outputs": [],
   "source": [
    "from textprepper.modifiers import GoogleTrans\n",
    "\n",
    "from langchain.schema.runnable import RunnablePassthrough\n",
    "from langchain.prompts import ChatPromptTemplate\n",
    "from langchain_openai import OpenAIEmbeddings\n",
    "from langchain.vectorstores.chroma import Chroma\n",
    "import chromadb"
   ]
  },
  {
   "cell_type": "markdown",
   "metadata": {},
   "source": [
    "## 1. Setup Preprocessor for Language Translation (Example Google Translator)"
   ]
  },
  {
   "cell_type": "code",
   "execution_count": 2,
   "metadata": {},
   "outputs": [
    {
     "data": {
      "text/plain": [
       "'Dies ist ein einfacher Test!'"
      ]
     },
     "execution_count": 2,
     "metadata": {},
     "output_type": "execute_result"
    }
   ],
   "source": [
    "translator = GoogleTrans(source_lng=\"auto\", target_lng=\"german\") # Translate to german\n",
    "translator(\"This is a simple test!\")"
   ]
  },
  {
   "cell_type": "code",
   "execution_count": 3,
   "metadata": {},
   "outputs": [
    {
     "name": "stdout",
     "output_type": "stream",
     "text": [
      "messages=[HumanMessage(content='Text: Das ist ein Test.')]\n"
     ]
    }
   ],
   "source": [
    "# Using the Translator in a simple chain\n",
    "prompt = ChatPromptTemplate.from_template(\"\"\"Text: {input}\"\"\")\n",
    "\n",
    "simple_chain = RunnablePassthrough() | translator | prompt\n",
    "\n",
    "print(simple_chain.invoke(\"This is a test.\"))"
   ]
  },
  {
   "cell_type": "markdown",
   "metadata": {},
   "source": [
    "## 2. Using the translator in a Retrieval Chain\n",
    "\n",
    "- I am using a database which I already setup for another project about two pdfs from the german goverment.\n",
    "- The focus is here only to show the possible usage in a lcel chain with a retriever."
   ]
  },
  {
   "cell_type": "code",
   "execution_count": 4,
   "metadata": {},
   "outputs": [],
   "source": [
    "SIMPLE_RAG = \"\"\"Answer the question based only on the following context:\n",
    "\n",
    "{context}\n",
    "\n",
    "Question: {question}\n",
    "\"\"\"\n",
    "SIMPLE_RAG_PROMPT = ChatPromptTemplate.from_template(SIMPLE_RAG)\n",
    "\n",
    "\n",
    "def format_docs(docs):\n",
    "    return \"\\n\\n\".join([d.page_content for d in docs])\n",
    "\n",
    "\n",
    "embedding_model = OpenAIEmbeddings(model=\"text-embedding-3-small\")\n",
    "\n",
    "# Setup ChromaDB\n",
    "CHROMA_CLIENT = chromadb.HttpClient(host=\"localhost\", port=8000) # My chromadb is runnning in a container.\n",
    "database = Chroma(\n",
    "    client=CHROMA_CLIENT,\n",
    "    collection_name=\"openai_embedded\",\n",
    "    embedding_function=embedding_model,\n",
    ")"
   ]
  },
  {
   "cell_type": "markdown",
   "metadata": {},
   "source": [
    "## Let's start with a simple query to the database\n",
    "\n",
    "#### Ask in german about unemployment\n",
    "\n",
    "As a reminder from the docstrings:\n",
    "```python\n",
    "\"\"\"\n",
    "Returns:\n",
    "    List[Tuple[Document, float]]: List of documents most similar to\n",
    "    the query text and cosine distance in float for each.\n",
    "    Lower score represents more similarity.\n",
    "\"\"\"\n",
    "```"
   ]
  },
  {
   "cell_type": "code",
   "execution_count": 5,
   "metadata": {},
   "outputs": [],
   "source": [
    "from textprepper.removers import RemoveNewLines\n",
    "def pretty_print_documents_with_scores(results):\n",
    "    print(\"Document Score | Content | page_number\")\n",
    "    for document, score in results:\n",
    "        shorter_content = RemoveNewLines(count=1)(document.page_content[:80])\n",
    "        page = document.metadata[\"page\"]\n",
    "        print(f\"{score:.3f} | {shorter_content} | {page}\")"
   ]
  },
  {
   "cell_type": "code",
   "execution_count": 6,
   "metadata": {},
   "outputs": [],
   "source": [
    "ger_results = database.similarity_search_with_score(\"Ich werde bald arbeitlos und benötige Hilfe. Was muss ich als nächstes tun?\", k=10)"
   ]
  },
  {
   "cell_type": "code",
   "execution_count": 7,
   "metadata": {},
   "outputs": [
    {
     "name": "stdout",
     "output_type": "stream",
     "text": [
      "Document Score | Content | page_number\n",
      "0.804 | » Leistungen und Angebote der Agentur für Arbeit » Arbeitsuchend und arbeitslos | 14\n",
      "0.812 | wieder arbeitsuchend zu melden (vgl. » Abschnitt 1 ). Über Fristen und das Verf | 18\n",
      "0.828 | 2.  Was müssen Sie tun, wenn Arbeitslosigkeit eintritt?2.1 Arbeitslos meldenL | 14\n",
      "0.838 | einer selbständigen Tätig  keit bzw. bevor  die Kosten entstanden sind, bean  t | 90\n",
      "0.839 | beschrie  ben – bei einer Agentur für  Arbeit arbeitsuchend melden.  Nähere  I | 13\n",
      "0.848 | land arbeiten, erhalten Sie bei Arbeits  losigkeit grund ­sätzlich Leistungen v | 15\n",
      "0.861 | keine Arbeit aufnehmen können. Sprechen Sie mit Ihrer Integrationsfachkraft, we | 20\n",
      "0.870 | HINWEISKönnen Sie bereits bei Ihrer Arbeitslosmeldung wegen Krankheit keine Be | 28\n",
      "0.874 | bereit und in der Lage sein, eine Beschäftigung von mindestens 15 Stunden wöche | 59\n",
      "0.888 | fordert sind, Ihre Beschäftigungslosigkeit zu beenden. Ihre Arbeitsvermittlerin | 20\n"
     ]
    }
   ],
   "source": [
    "pretty_print_documents_with_scores(ger_results)"
   ]
  },
  {
   "cell_type": "markdown",
   "metadata": {},
   "source": [
    "#### Ask in english the same question"
   ]
  },
  {
   "cell_type": "code",
   "execution_count": 8,
   "metadata": {},
   "outputs": [],
   "source": [
    "en_results = database.similarity_search_with_score(\"I will be unemployed soon and need help. What should I do next?\", k=10)"
   ]
  },
  {
   "cell_type": "code",
   "execution_count": 9,
   "metadata": {},
   "outputs": [
    {
     "name": "stdout",
     "output_type": "stream",
     "text": [
      "Document Score | Content | page_number\n",
      "1.176 | land arbeiten, erhalten Sie bei Arbeits  losigkeit grund ­sätzlich Leistungen v | 15\n",
      "1.186 | Weitere HilfenTeilarbeitslosengeldWenn Sie teilarbeitslos sind, besteht die Mö | 89\n",
      "1.196 | 2.  Was müssen Sie tun, wenn Arbeitslosigkeit eintritt?2.1 Arbeitslos meldenL | 14\n",
      "1.196 | wieder arbeitsuchend zu melden (vgl. » Abschnitt 1 ). Über Fristen und das Verf | 18\n",
      "1.200 | » Leistungen und Angebote der Agentur für Arbeit » Arbeitsuchend und arbeitslos | 14\n",
      "1.202 | einer selbständigen Tätig  keit bzw. bevor  die Kosten entstanden sind, bean  t | 90\n",
      "1.222 | haben, setzen Sie sich bitte unverzüglich mit dem für Sie zuständigen Jobcenter | 49\n",
      "1.228 | die Jobcenter .  HINWEISSollten Sie zeitgleich Arbeitslosengeld von Ihrer Agen | 11\n",
      "1.232 | HINWEISBeachten Sie hierzu das » Merkblatt Bürgergeld  – Grundsicherung für Ar | 91\n",
      "1.247 | Wenn Sie während einer Sperrzeit Ihren Lebensunter ­halt aus Ihren vorhandenen  | 58\n"
     ]
    }
   ],
   "source": [
    "pretty_print_documents_with_scores(en_results)"
   ]
  },
  {
   "cell_type": "markdown",
   "metadata": {},
   "source": [
    "**You can see, that the scores are different and obviously the german question is more similar to the documents. But you can also recognize, that you will get different documents. Some documents are the same but may have a different \"rank\" in the order. So depending on the use case, embedding model and/or LLM, it might be beneficial to translate the user's query into the language of the database first to receive better/different results.**"
   ]
  },
  {
   "cell_type": "markdown",
   "metadata": {},
   "source": [
    "### Let's setup a retrieval chain (without a LLM)\n",
    "\n",
    "- the documents are in german, so that's why I translate the query into the same language\n",
    "- For this example I excluded the llm (not in focus)\n",
    "\n",
    "#### Let's show first how you usually setup a retrieval chain without a translator (comparison)"
   ]
  },
  {
   "cell_type": "code",
   "execution_count": 10,
   "metadata": {},
   "outputs": [
    {
     "name": "stdout",
     "output_type": "stream",
     "text": [
      "Answer the question based only on the following context:\n",
      "\n",
      "land arbeiten, erhalten Sie bei Arbeits  losigkeit grund ­\n",
      "sätzlich Leistungen von Ihrem Wohnortstaat. Zur \n",
      " Sicherung möglicher Ansprüche melden Sie sich bitte \n",
      "zeitnah beim Träger der Arbeits  losenversicherung in \n",
      "Ihrem Wohnortstaat.\n",
      "2.2 Antrag stellen \n",
      "Sie können den Antrag online unter  \n",
      "» www.arbeitsagentur.de /eservices » Leistungen \n",
      "und Angebote der Agentur für Arbeit \n",
      "»  Arbeitslosengeld beantragen“  stellen. Es reicht \n",
      "aus, wenn Sie den Antrag ca. 2  Wochen vor Eintritt der\n",
      "\n",
      "Weitere Hilfen\n",
      "Teilarbeitslosengeld\n",
      "Wenn Sie teilarbeitslos sind, besteht die Möglichkeit \n",
      "Teilarbeitslosengeld zu beziehen. Sie sind teilarbeits ­\n",
      "los, wenn Sie eine versicherungspflichtige Beschäfti ­\n",
      "gung, die Sie neben mindestens einer weiteren versicherungspflichtigen Beschäftigung ausgeübt haben, \n",
      "verloren haben und eine versicherungspflichtige \n",
      " Beschäftigung suchen. Das » Merkblatt  1a für Teilarbeitslose finden Sie unter: » www.arbeitsagentur.de \n",
      "» Download-Center » Kachel: Arbeitslos und Arbeit\n",
      "\n",
      "2.  Was müssen Sie tun, wenn \n",
      "Arbeitslosigkeit eintritt?\n",
      "2.1 Arbeitslos melden\n",
      "Leistungen können Sie nur erhalten, wenn Sie der \n",
      " zuständigen Agentur für Arbeit Ihre Arbeitslosigkeit \n",
      " gemeldet haben. Sie können sich hierzu online \n",
      " arbeitslos melden. Sie benötigen dafür nur ein Aus ­\n",
      "weisdokument mit Online-Ausweisfunktion, die kosten ­\n",
      "lose AusweisApp sowie ein Smartphone oder ein \n",
      "Karten  lesegerät. Starten Sie die Online Arbeitslosmeldung auf » www.arbeitsagentur.de /eservices\n",
      "\n",
      "wieder arbeitsuchend zu melden (vgl. » Abschnitt 1 ). \n",
      "Über Fristen und das Verfahren für die Arbeitsuchend ­\n",
      "meldung informieren Sie sich bitte bei Ihrer Agentur für \n",
      "Arbeit. Um Nachteile zu vermeiden, müssen Sie sich \n",
      "auch erneut – spätestens am ersten Tag der Arbeitslosigkeit – online im Fachportal der Bundesagentur für \n",
      "Arbeit oder persönlich bei Ihrer Agentur für Arbeit \n",
      "arbeits  los melden (vgl. » Abschnitt 2.1 ).\n",
      "Üben Sie unentgeltlich eine ehrenamtliche Tätigkeit\n",
      "\n",
      "Question: I will be unemployed soon and need help. What should I do next?\n",
      "\n"
     ]
    }
   ],
   "source": [
    "usual_retrieval_chain = {\n",
    "    \"context\":  database.as_retriever() | format_docs,\n",
    "    \"question\": RunnablePassthrough(),\n",
    "} | SIMPLE_RAG_PROMPT\n",
    "\n",
    "results = usual_retrieval_chain.invoke(\"I will be unemployed soon and need help. What should I do next?\")\n",
    "print(results.messages[0].content)"
   ]
  },
  {
   "cell_type": "markdown",
   "metadata": {},
   "source": [
    "##### Let's change the LCEL Chain and integrate the translator"
   ]
  },
  {
   "cell_type": "code",
   "execution_count": 11,
   "metadata": {},
   "outputs": [
    {
     "name": "stdout",
     "output_type": "stream",
     "text": [
      "Answer the question based only on the following context:\n",
      "\n",
      "» Leistungen und Angebote der Agentur für Arbeit \n",
      "» Arbeitsuchend und arbeitslos melden.  Oder Sie \n",
      " suchen Ihre Agentur für Arbeit auf, um sich persönlich \n",
      "arbeitslos zu melden.\n",
      "Es ist wichtig, dass Sie sich spätestens am 1. Tag der \n",
      "Arbeitslosigkeit arbeitslos melden; dies kann auch \n",
      "inner  halb von 3   Monaten vor dem  Beginn der \n",
      " Arbeitslosigkeit  geschehen. Beachten Sie jedoch bitte \n",
      "unbedingt die  Hinweise zur gesonderten Arbeitsuchendmeldung in  »  Abschnitt  1.\n",
      " HINWEIS\n",
      "\n",
      "wieder arbeitsuchend zu melden (vgl. » Abschnitt 1 ). \n",
      "Über Fristen und das Verfahren für die Arbeitsuchend ­\n",
      "meldung informieren Sie sich bitte bei Ihrer Agentur für \n",
      "Arbeit. Um Nachteile zu vermeiden, müssen Sie sich \n",
      "auch erneut – spätestens am ersten Tag der Arbeitslosigkeit – online im Fachportal der Bundesagentur für \n",
      "Arbeit oder persönlich bei Ihrer Agentur für Arbeit \n",
      "arbeits  los melden (vgl. » Abschnitt 2.1 ).\n",
      "Üben Sie unentgeltlich eine ehrenamtliche Tätigkeit\n",
      "\n",
      "land arbeiten, erhalten Sie bei Arbeits  losigkeit grund ­\n",
      "sätzlich Leistungen von Ihrem Wohnortstaat. Zur \n",
      " Sicherung möglicher Ansprüche melden Sie sich bitte \n",
      "zeitnah beim Träger der Arbeits  losenversicherung in \n",
      "Ihrem Wohnortstaat.\n",
      "2.2 Antrag stellen \n",
      "Sie können den Antrag online unter  \n",
      "» www.arbeitsagentur.de /eservices » Leistungen \n",
      "und Angebote der Agentur für Arbeit \n",
      "»  Arbeitslosengeld beantragen“  stellen. Es reicht \n",
      "aus, wenn Sie den Antrag ca. 2  Wochen vor Eintritt der\n",
      "\n",
      "einer selbständigen Tätig  keit bzw. bevor  die Kosten \n",
      "entstanden sind, bean  tragen.\n",
      "Hinweise für Arbeitslose, die kein Arbeitslosengeld \n",
      "beziehen:\n",
      "Informationen über Ihre Rechte und Pflichten finden \n",
      "Sie im » Faltblatt „ Arbeitssuchende und Arbeitslose \n",
      "ohne Anspruch auf Arbeitslosengeld “ \n",
      "Insolvenzgeld\n",
      "Falls Ihr letzter Arbeitgeber seine Zahlungen einstellen \n",
      "musste, haben Sie möglicherweise noch Ansprüche \n",
      "auf rückständiges Arbeitsentgelt. In diesem Falle \n",
      " können Sie unter bestimmten Voraussetzungen\n",
      "\n",
      "Question: I will be unemployed soon and need help. What should I do next?\n",
      "\n"
     ]
    }
   ],
   "source": [
    "translator_retrieval_chain = {\n",
    "    \"context\": translator | database.as_retriever() | format_docs,\n",
    "    \"question\": RunnablePassthrough(),\n",
    "} | SIMPLE_RAG_PROMPT\n",
    "\n",
    "results = translator_retrieval_chain.invoke(\"I will be unemployed soon and need help. What should I do next?\")\n",
    "print(results.messages[0].content)"
   ]
  },
  {
   "cell_type": "markdown",
   "metadata": {},
   "source": [
    "##### If you want to return translated question too:"
   ]
  },
  {
   "cell_type": "code",
   "execution_count": 12,
   "metadata": {},
   "outputs": [],
   "source": [
    "SIMPLE_RAG = \"\"\"Answer the question based only on the following context:\n",
    "\n",
    "Original Question: {question}\n",
    "Translation: {translation}\n",
    "\n",
    "{context}\n",
    "\"\"\"\n",
    "RAG_PROMPT = ChatPromptTemplate.from_template(SIMPLE_RAG)"
   ]
  },
  {
   "cell_type": "code",
   "execution_count": 13,
   "metadata": {},
   "outputs": [],
   "source": [
    "translator_retrieval_chain = {\n",
    "    \"context\": translator | database.as_retriever() | format_docs,\n",
    "    \"question\": RunnablePassthrough(),\n",
    "    \"translation\": translator # Only to show the output\n",
    "} | RAG_PROMPT"
   ]
  },
  {
   "cell_type": "code",
   "execution_count": 14,
   "metadata": {},
   "outputs": [
    {
     "name": "stdout",
     "output_type": "stream",
     "text": [
      "Answer the question based only on the following context:\n",
      "\n",
      "Original Question: I will be unemployed soon and need help. What should I do next?\n",
      "Translation: Ich werde bald arbeitslos sein und brauche Hilfe. Was soll ich als nächstes tun?\n",
      "\n",
      "wieder arbeitsuchend zu melden (vgl. » Abschnitt 1 ). \n",
      "Über Fristen und das Verfahren für die Arbeitsuchend ­\n",
      "meldung informieren Sie sich bitte bei Ihrer Agentur für \n",
      "Arbeit. Um Nachteile zu vermeiden, müssen Sie sich \n",
      "auch erneut – spätestens am ersten Tag der Arbeitslosigkeit – online im Fachportal der Bundesagentur für \n",
      "Arbeit oder persönlich bei Ihrer Agentur für Arbeit \n",
      "arbeits  los melden (vgl. » Abschnitt 2.1 ).\n",
      "Üben Sie unentgeltlich eine ehrenamtliche Tätigkeit\n",
      "\n",
      "» Leistungen und Angebote der Agentur für Arbeit \n",
      "» Arbeitsuchend und arbeitslos melden.  Oder Sie \n",
      " suchen Ihre Agentur für Arbeit auf, um sich persönlich \n",
      "arbeitslos zu melden.\n",
      "Es ist wichtig, dass Sie sich spätestens am 1. Tag der \n",
      "Arbeitslosigkeit arbeitslos melden; dies kann auch \n",
      "inner  halb von 3   Monaten vor dem  Beginn der \n",
      " Arbeitslosigkeit  geschehen. Beachten Sie jedoch bitte \n",
      "unbedingt die  Hinweise zur gesonderten Arbeitsuchendmeldung in  »  Abschnitt  1.\n",
      " HINWEIS\n",
      "\n",
      "2.  Was müssen Sie tun, wenn \n",
      "Arbeitslosigkeit eintritt?\n",
      "2.1 Arbeitslos melden\n",
      "Leistungen können Sie nur erhalten, wenn Sie der \n",
      " zuständigen Agentur für Arbeit Ihre Arbeitslosigkeit \n",
      " gemeldet haben. Sie können sich hierzu online \n",
      " arbeitslos melden. Sie benötigen dafür nur ein Aus ­\n",
      "weisdokument mit Online-Ausweisfunktion, die kosten ­\n",
      "lose AusweisApp sowie ein Smartphone oder ein \n",
      "Karten  lesegerät. Starten Sie die Online Arbeitslosmeldung auf » www.arbeitsagentur.de /eservices\n",
      "\n",
      "land arbeiten, erhalten Sie bei Arbeits  losigkeit grund ­\n",
      "sätzlich Leistungen von Ihrem Wohnortstaat. Zur \n",
      " Sicherung möglicher Ansprüche melden Sie sich bitte \n",
      "zeitnah beim Träger der Arbeits  losenversicherung in \n",
      "Ihrem Wohnortstaat.\n",
      "2.2 Antrag stellen \n",
      "Sie können den Antrag online unter  \n",
      "» www.arbeitsagentur.de /eservices » Leistungen \n",
      "und Angebote der Agentur für Arbeit \n",
      "»  Arbeitslosengeld beantragen“  stellen. Es reicht \n",
      "aus, wenn Sie den Antrag ca. 2  Wochen vor Eintritt der\n",
      "\n"
     ]
    }
   ],
   "source": [
    "results = translator_retrieval_chain.invoke(\"I will be unemployed soon and need help. What should I do next?\")\n",
    "print(results.messages[0].content)"
   ]
  },
  {
   "cell_type": "markdown",
   "metadata": {},
   "source": [
    "## If you want to translate the retrieved document for your final LLM prompt, you can use the DocumentPreprocessorPipe:"
   ]
  },
  {
   "cell_type": "code",
   "execution_count": 15,
   "metadata": {},
   "outputs": [],
   "source": [
    "from textprepper import DocumentPreprocessorPipe"
   ]
  },
  {
   "cell_type": "code",
   "execution_count": 16,
   "metadata": {},
   "outputs": [],
   "source": [
    "en_trans = GoogleTrans(target_lng=\"english\")\n",
    "trans = DocumentPreprocessorPipe([en_trans])\n",
    "\n",
    "# Use the .from_documents method of the DocumentPreprocessorPipe instance\n",
    "lcel = RunnablePassthrough() | translator | database.as_retriever() | trans.from_documents"
   ]
  },
  {
   "cell_type": "code",
   "execution_count": 17,
   "metadata": {},
   "outputs": [
    {
     "data": {
      "text/plain": [
       "[Document(page_content='money, transitional allowance, pension due to full working life\\nment or incapacity to work, the old age pension\\nthe statutory pension insurance, the Knapp\\nsocial compensation benefit or similar public benefits\\npublic law), your entitlement to unemployment is suspended\\nsengeld in whole or in part. The corresponding\\nLegal regulations are intended to prevent “double payment”\\nimpede.\\nIf you receive parental allowance, this corresponds to the receipt of\\nUnemployment benefits are not available. However, you must', metadata={'page': 59, 'rm_header': True, 'section_number': '6.', 'section_title': 'Sperrzeit', 'source': '../pdf_files/merkblatt-fuer-arbeitslose_ba036520.pdf', 'topic': 'Arbeitslosengeld'}),\n",
       " Document(page_content='on unemployment benefits even if you are in the', metadata={'page': 29, 'rm_header': True, 'section_number': '2.5', 'section_title': 'Verfügbar sein', 'source': '../pdf_files/merkblatt-fuer-arbeitslose_ba036520.pdf', 'topic': 'Arbeitslosengeld'}),\n",
       " Document(page_content='Your entitlement to unemployment benefit\\nYou are entitled to unemployment benefit if you are unemployed or if you are taking part in subsidised professional training (see also the information in » Information Sheet 6 – Promotion of professional training).\\n3.1 Qualifying period\\nBy registering as unemployed, you have already fulfilled an important eligibility requirement. However, you can only receive unemployment benefit if – in addition to the eligibility requirements listed in Section 2 –', metadata={'page': 29, 'rm_header': True, 'section_number': '2.5', 'section_title': 'Verfügbar sein', 'source': '../pdf_files/merkblatt-fuer-arbeitslose_ba036520.pdf', 'topic': 'Arbeitslosengeld'}),\n",
       " Document(page_content='holiday). Unemployment benefits could be paid from Friday\\nbecome.\\nEven if you receive redundancy pay\\n(severance payment, compensation or similar benefit).\\nhold, your entitlement to benefits is suspended for a specific period\\nTime when you were unable to terminate or the employer\\nthe notice period on the part of the party has not been observed;\\nDetails on this can be found in » Information Sheet 17.', metadata={'page': 60, 'rm_header': True, 'section_number': '7.1', 'section_title': 'Ruhen bei Sozialleistungen', 'source': '../pdf_files/merkblatt-fuer-arbeitslose_ba036520.pdf', 'topic': 'Arbeitslosengeld'})]"
      ]
     },
     "execution_count": 17,
     "metadata": {},
     "output_type": "execute_result"
    }
   ],
   "source": [
    "lcel.invoke(\"Arbeitslosengeld\")"
   ]
  }
 ],
 "metadata": {
  "kernelspec": {
   "display_name": "textprepper-a_Do2pGY-py3.11",
   "language": "python",
   "name": "python3"
  },
  "language_info": {
   "codemirror_mode": {
    "name": "ipython",
    "version": 3
   },
   "file_extension": ".py",
   "mimetype": "text/x-python",
   "name": "python",
   "nbconvert_exporter": "python",
   "pygments_lexer": "ipython3",
   "version": "3.11.7"
  }
 },
 "nbformat": 4,
 "nbformat_minor": 2
}
