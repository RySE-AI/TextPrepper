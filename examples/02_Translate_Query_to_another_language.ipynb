{
 "cells": [
  {
   "cell_type": "markdown",
   "metadata": {},
   "source": [
    "# How to use a preprocessor in a retrieval chain"
   ]
  },
  {
   "cell_type": "code",
   "execution_count": 1,
   "metadata": {},
   "outputs": [],
   "source": [
    "from textprepper.modifiers import GoogleTrans\n",
    "\n",
    "from langchain.schema.runnable import RunnablePassthrough\n",
    "from langchain.prompts import ChatPromptTemplate\n",
    "from langchain_openai import OpenAIEmbeddings\n",
    "from langchain.vectorstores.chroma import Chroma\n",
    "import chromadb"
   ]
  },
  {
   "cell_type": "markdown",
   "metadata": {},
   "source": [
    "## 1. Setup Preprocessor for Language Translation (Example Google Translator)"
   ]
  },
  {
   "cell_type": "code",
   "execution_count": 2,
   "metadata": {},
   "outputs": [
    {
     "data": {
      "text/plain": [
       "'Dies ist ein einfacher Test!'"
      ]
     },
     "execution_count": 2,
     "metadata": {},
     "output_type": "execute_result"
    }
   ],
   "source": [
    "translator = GoogleTrans(source_lng=\"auto\", target_lng=\"german\") # Translate to german\n",
    "translator(\"This is a simple test!\")"
   ]
  },
  {
   "cell_type": "code",
   "execution_count": 3,
   "metadata": {},
   "outputs": [
    {
     "name": "stdout",
     "output_type": "stream",
     "text": [
      "messages=[HumanMessage(content='Text: Das ist ein Test.')]\n"
     ]
    }
   ],
   "source": [
    "# Using the Translator in a simple chain\n",
    "prompt = ChatPromptTemplate.from_template(\"\"\"Text: {input}\"\"\")\n",
    "\n",
    "simple_chain = RunnablePassthrough() | translator | prompt\n",
    "\n",
    "print(simple_chain.invoke(\"This is a test.\"))"
   ]
  },
  {
   "cell_type": "markdown",
   "metadata": {},
   "source": [
    "## 2. Using the translator in a Retrieval Chain\n",
    "\n",
    "- I am using a database which I already setup for another project about two pdfs from the german goverment.\n",
    "- The focus is here only to show the possible usage in a lcel chain with a retriever."
   ]
  },
  {
   "cell_type": "code",
   "execution_count": 4,
   "metadata": {},
   "outputs": [],
   "source": [
    "SIMPLE_RAG = \"\"\"Answer the question based only on the following context:\n",
    "\n",
    "{context}\n",
    "\n",
    "Question: {question}\n",
    "\"\"\"\n",
    "SIMPLE_RAG_PROMPT = ChatPromptTemplate.from_template(SIMPLE_RAG)\n",
    "\n",
    "\n",
    "def format_docs(docs):\n",
    "    return \"\\n\\n\".join([d.page_content for d in docs])\n",
    "\n",
    "\n",
    "embedding_model = OpenAIEmbeddings(model=\"text-embedding-3-small\")\n",
    "\n",
    "# Setup ChromaDB\n",
    "CHROMA_CLIENT = chromadb.HttpClient(host=\"localhost\", port=8000) # My chromadb is runnning in a container.\n",
    "database = Chroma(\n",
    "    client=CHROMA_CLIENT,\n",
    "    collection_name=\"openai_embedded\",\n",
    "    embedding_function=embedding_model,\n",
    ")"
   ]
  },
  {
   "cell_type": "markdown",
   "metadata": {},
   "source": [
    "## Let's start with a simple query to the database\n",
    "\n",
    "#### Ask in german about unemployment\n",
    "\n",
    "As a reminder from the docstrings:\n",
    "```python\n",
    "\"\"\"\n",
    "Returns:\n",
    "    List[Tuple[Document, float]]: List of documents most similar to\n",
    "    the query text and cosine distance in float for each.\n",
    "    Lower score represents more similarity.\n",
    "\"\"\"\n",
    "```"
   ]
  },
  {
   "cell_type": "code",
   "execution_count": 5,
   "metadata": {},
   "outputs": [
    {
     "data": {
      "text/plain": [
       "[(Document(page_content='» Leistungen und Angebote der Agentur für Arbeit \\n» Arbeitsuchend und arbeitslos melden.  Oder Sie \\n suchen Ihre Agentur für Arbeit auf, um sich persönlich \\narbeitslos zu melden.\\nEs ist wichtig, dass Sie sich spätestens am 1. Tag der \\nArbeitslosigkeit arbeitslos melden; dies kann auch \\ninner  halb von 3   Monaten vor dem  Beginn der \\n Arbeitslosigkeit  geschehen. Beachten Sie jedoch bitte \\nunbedingt die  Hinweise zur gesonderten Arbeitsuchendmeldung in  »  Abschnitt  1.\\n HINWEIS', metadata={'page': 14, 'rm_header': True, 'section_number': '1.', 'section_title': ' Was müssen Sie tun, wenn Arbeitslosigkeit droht?', 'source': '../pdf_files/merkblatt-fuer-arbeitslose_ba036520.pdf', 'topic': 'Arbeitslosengeld'}),\n",
       "  0.8039910197257996),\n",
       " (Document(page_content='wieder arbeitsuchend zu melden (vgl. » Abschnitt 1 ). \\nÜber Fristen und das Verfahren für die Arbeitsuchend \\xad\\nmeldung informieren Sie sich bitte bei Ihrer Agentur für \\nArbeit. Um Nachteile zu vermeiden, müssen Sie sich \\nauch erneut – spätestens am ersten Tag der Arbeitslosigkeit – online im Fachportal der Bundesagentur für \\nArbeit oder persönlich bei Ihrer Agentur für Arbeit \\narbeits  los melden (vgl. » Abschnitt 2.1 ).\\nÜben Sie unentgeltlich eine ehrenamtliche Tätigkeit', metadata={'page': 18, 'rm_header': True, 'section_number': '2.3', 'section_title': 'Beschäftigungslos sein', 'source': '../pdf_files/merkblatt-fuer-arbeitslose_ba036520.pdf', 'topic': 'Arbeitslosengeld'}),\n",
       "  0.8120133876800537),\n",
       " (Document(page_content='2.  Was müssen Sie tun, wenn \\nArbeitslosigkeit eintritt?\\n2.1 Arbeitslos melden\\nLeistungen können Sie nur erhalten, wenn Sie der \\n zuständigen Agentur für Arbeit Ihre Arbeitslosigkeit \\n gemeldet haben. Sie können sich hierzu online \\n arbeitslos melden. Sie benötigen dafür nur ein Aus \\xad\\nweisdokument mit Online-Ausweisfunktion, die kosten \\xad\\nlose AusweisApp sowie ein Smartphone oder ein \\nKarten  lesegerät. Starten Sie die Online Arbeitslosmeldung auf » www.arbeitsagentur.de /eservices', metadata={'page': 14, 'rm_header': True, 'section_number': '1.', 'section_title': ' Was müssen Sie tun, wenn Arbeitslosigkeit droht?', 'source': '../pdf_files/merkblatt-fuer-arbeitslose_ba036520.pdf', 'topic': 'Arbeitslosengeld'}),\n",
       "  0.827748715877533),\n",
       " (Document(page_content='einer selbständigen Tätig  keit bzw. bevor  die Kosten \\nentstanden sind, bean  tragen.\\nHinweise für Arbeitslose, die kein Arbeitslosengeld \\nbeziehen:\\nInformationen über Ihre Rechte und Pflichten finden \\nSie im » Faltblatt „ Arbeitssuchende und Arbeitslose \\nohne Anspruch auf Arbeitslosengeld “ \\nInsolvenzgeld\\nFalls Ihr letzter Arbeitgeber seine Zahlungen einstellen \\nmusste, haben Sie möglicherweise noch Ansprüche \\nauf rückständiges Arbeitsentgelt. In diesem Falle \\n können Sie unter bestimmten Voraussetzungen', metadata={'page': 90, 'rm_header': True, 'section_number': '16.', 'section_title': 'Weitere Hilfen', 'source': '../pdf_files/merkblatt-fuer-arbeitslose_ba036520.pdf', 'topic': 'Arbeitslosengeld'}),\n",
       "  0.837621781372339),\n",
       " (Document(page_content='beschrie  ben – bei einer Agentur für  Arbeit \\narbeitsuchend melden.  Nähere \\n Informationen zur Pflicht zur frühzeitigen \\n Arbeitsuche finden Sie im Internet unter   \\n» www.arbeitsagentur.de .', metadata={'page': 13, 'rm_header': True, 'section_number': '1.', 'section_title': ' Was müssen Sie tun, wenn Arbeitslosigkeit droht?', 'source': '../pdf_files/merkblatt-fuer-arbeitslose_ba036520.pdf', 'topic': 'Arbeitslosengeld'}),\n",
       "  0.8385839462280273),\n",
       " (Document(page_content='land arbeiten, erhalten Sie bei Arbeits  losigkeit grund \\xad\\nsätzlich Leistungen von Ihrem Wohnortstaat. Zur \\n Sicherung möglicher Ansprüche melden Sie sich bitte \\nzeitnah beim Träger der Arbeits  losenversicherung in \\nIhrem Wohnortstaat.\\n2.2 Antrag stellen \\nSie können den Antrag online unter  \\n» www.arbeitsagentur.de /eservices » Leistungen \\nund Angebote der Agentur für Arbeit \\n»  Arbeitslosengeld beantragen“  stellen. Es reicht \\naus, wenn Sie den Antrag ca. 2  Wochen vor Eintritt der', metadata={'page': 15, 'rm_header': True, 'section_number': '2.1', 'section_title': 'Arbeitslos melden', 'source': '../pdf_files/merkblatt-fuer-arbeitslose_ba036520.pdf', 'topic': 'Arbeitslosengeld'}),\n",
       "  0.8479751944541931),\n",
       " (Document(page_content='keine Arbeit aufnehmen können. Sprechen Sie mit Ihrer \\nIntegrationsfachkraft, wenn Sie glauben, dass für Sie \\neine Befreiung von der Anzeige- und Bescheinigungspflicht bei Arbeitsunfähigkeit in Frage kommen könnte. \\nDenken Sie auch daran, dass Sie alle Änderungen, die \\nnach der Antragstellung eintreten und sich auf die Leistungen auswirken können, Ihrem zuständigen Jobcenter mitteilen müssen.\\n  BITTE BEACHTEN SIE\\nDie Mitwirkungspflichten sind von allen \\n Mitgliedern einer Bedarfsgemeinschaft zu \\nbeachten.', metadata={'page': 20, 'rm_header': True, 'section_number': '3.3', 'section_title': 'Mitwirkungspflichten', 'source': '../pdf_files/merkblatt-buergergeld_ba043375.pdf', 'topic': 'Bürgergeld'}),\n",
       "  0.8605278134346008),\n",
       " (Document(page_content='HINWEIS\\nKönnen Sie bereits bei Ihrer Arbeitslosmeldung wegen \\nKrankheit keine Beschäftigung ausüben, stehen Sie \\nder Arbeitsvermittlung nicht zur Verfügung und haben \\nkeinen Anspruch auf Arbeitslosengeld. Melden Sie sich \\nonline im Fachportal der Bundesagentur für  Arbeit \\narbeits  los oder sprechen Sie nach Ihrer Genesung \\n unverzüglich erneut persönlich bei Ihrer Agentur für \\n Arbeit vor. Bis dahin bleibt Ihre Krankenkasse für \\n Leistungen zuständig. Bitte beachten Sie die Hinweise', metadata={'page': 28, 'rm_header': True, 'section_number': '2.5', 'section_title': 'Verfügbar sein', 'source': '../pdf_files/merkblatt-fuer-arbeitslose_ba036520.pdf', 'topic': 'Arbeitslosengeld'}),\n",
       "  0.8704739212989807),\n",
       " (Document(page_content='bereit und in der Lage sein, eine Beschäftigung von \\nmindestens 15 Stunden wöchentlich unter den üblichen \\nBedingungen des Arbeitsmarktes aufzunehmen.\\nErkundigen Sie sich möglichst frühzeitig nicht nur bei \\nIhrer Agentur für Arbeit, sondern auch beim Träger der \\nIhnen gezahlten Leistung, z.  B. dem Rentenversiche \\xad\\nrungsträger, nach den Auswirkungen eines Zusammen \\xad\\ntreffens mit Arbeitslosengeld.\\nUnter Umständen hat eine Leistung keine Auswirkun \\xad\\ngen auf das Arbeitslosengeld; wird jedoch Arbeitslosen \\xad', metadata={'page': 59, 'rm_header': True, 'section_number': '6.', 'section_title': 'Sperrzeit', 'source': '../pdf_files/merkblatt-fuer-arbeitslose_ba036520.pdf', 'topic': 'Arbeitslosengeld'}),\n",
       "  0.8735966086387634),\n",
       " (Document(page_content='fordert sind, Ihre Beschäftigungslosigkeit zu beenden. \\nIhre Arbeitsvermittlerin/Ihr Arbeitsvermittler wird \\nSie dabei beraten und unterstützen.\\nAktivitäten im Rahmen der Eingliederungsvereinbarung \\nbzw. Eigenbemühungen können z.  B. schriftliche \\n Bewerbungen, die Auswertung von Stellenanzeigen in \\nZeitungen, Fachzeitschriften und anderen Medien, \\n Vorsprachen bei Betrieben, die Nutzung der Jobsuche \\nund des Serviceportals unter » www.arbeitsagentur.de , \\ndie Arbeitsplatzsuche per Inserat, der Besuch von', metadata={'page': 20, 'rm_header': True, 'section_number': '2.3', 'section_title': 'Beschäftigungslos sein', 'source': '../pdf_files/merkblatt-fuer-arbeitslose_ba036520.pdf', 'topic': 'Arbeitslosengeld'}),\n",
       "  0.8880224823951721)]"
      ]
     },
     "execution_count": 5,
     "metadata": {},
     "output_type": "execute_result"
    }
   ],
   "source": [
    "database.similarity_search_with_score(\"Ich werde bald arbeitlos und benötige Hilfe. Was muss ich als nächstes tun?\", k=10)"
   ]
  },
  {
   "cell_type": "markdown",
   "metadata": {},
   "source": [
    "#### Ask in english the same question"
   ]
  },
  {
   "cell_type": "code",
   "execution_count": 6,
   "metadata": {},
   "outputs": [
    {
     "data": {
      "text/plain": [
       "[(Document(page_content='land arbeiten, erhalten Sie bei Arbeits  losigkeit grund \\xad\\nsätzlich Leistungen von Ihrem Wohnortstaat. Zur \\n Sicherung möglicher Ansprüche melden Sie sich bitte \\nzeitnah beim Träger der Arbeits  losenversicherung in \\nIhrem Wohnortstaat.\\n2.2 Antrag stellen \\nSie können den Antrag online unter  \\n» www.arbeitsagentur.de /eservices » Leistungen \\nund Angebote der Agentur für Arbeit \\n»  Arbeitslosengeld beantragen“  stellen. Es reicht \\naus, wenn Sie den Antrag ca. 2  Wochen vor Eintritt der', metadata={'page': 15, 'rm_header': True, 'section_number': '2.1', 'section_title': 'Arbeitslos melden', 'source': '../pdf_files/merkblatt-fuer-arbeitslose_ba036520.pdf', 'topic': 'Arbeitslosengeld'}),\n",
       "  1.1755585670471191),\n",
       " (Document(page_content='Weitere Hilfen\\nTeilarbeitslosengeld\\nWenn Sie teilarbeitslos sind, besteht die Möglichkeit \\nTeilarbeitslosengeld zu beziehen. Sie sind teilarbeits \\xad\\nlos, wenn Sie eine versicherungspflichtige Beschäfti \\xad\\ngung, die Sie neben mindestens einer weiteren versicherungspflichtigen Beschäftigung ausgeübt haben, \\nverloren haben und eine versicherungspflichtige \\n Beschäftigung suchen. Das » Merkblatt  1a für Teilarbeitslose finden Sie unter: » www.arbeitsagentur.de \\n» Download-Center » Kachel: Arbeitslos und Arbeit', metadata={'page': 89, 'rm_header': True, 'section_number': '15.', 'section_title': 'Bescheide und Rechtsbehelfe', 'source': '../pdf_files/merkblatt-fuer-arbeitslose_ba036520.pdf', 'topic': 'Arbeitslosengeld'}),\n",
       "  1.1858019159683808),\n",
       " (Document(page_content='2.  Was müssen Sie tun, wenn \\nArbeitslosigkeit eintritt?\\n2.1 Arbeitslos melden\\nLeistungen können Sie nur erhalten, wenn Sie der \\n zuständigen Agentur für Arbeit Ihre Arbeitslosigkeit \\n gemeldet haben. Sie können sich hierzu online \\n arbeitslos melden. Sie benötigen dafür nur ein Aus \\xad\\nweisdokument mit Online-Ausweisfunktion, die kosten \\xad\\nlose AusweisApp sowie ein Smartphone oder ein \\nKarten  lesegerät. Starten Sie die Online Arbeitslosmeldung auf » www.arbeitsagentur.de /eservices', metadata={'page': 14, 'rm_header': True, 'section_number': '1.', 'section_title': ' Was müssen Sie tun, wenn Arbeitslosigkeit droht?', 'source': '../pdf_files/merkblatt-fuer-arbeitslose_ba036520.pdf', 'topic': 'Arbeitslosengeld'}),\n",
       "  1.1955039501190186),\n",
       " (Document(page_content='wieder arbeitsuchend zu melden (vgl. » Abschnitt 1 ). \\nÜber Fristen und das Verfahren für die Arbeitsuchend \\xad\\nmeldung informieren Sie sich bitte bei Ihrer Agentur für \\nArbeit. Um Nachteile zu vermeiden, müssen Sie sich \\nauch erneut – spätestens am ersten Tag der Arbeitslosigkeit – online im Fachportal der Bundesagentur für \\nArbeit oder persönlich bei Ihrer Agentur für Arbeit \\narbeits  los melden (vgl. » Abschnitt 2.1 ).\\nÜben Sie unentgeltlich eine ehrenamtliche Tätigkeit', metadata={'page': 18, 'rm_header': True, 'section_number': '2.3', 'section_title': 'Beschäftigungslos sein', 'source': '../pdf_files/merkblatt-fuer-arbeitslose_ba036520.pdf', 'topic': 'Arbeitslosengeld'}),\n",
       "  1.1963722705841064),\n",
       " (Document(page_content='» Leistungen und Angebote der Agentur für Arbeit \\n» Arbeitsuchend und arbeitslos melden.  Oder Sie \\n suchen Ihre Agentur für Arbeit auf, um sich persönlich \\narbeitslos zu melden.\\nEs ist wichtig, dass Sie sich spätestens am 1. Tag der \\nArbeitslosigkeit arbeitslos melden; dies kann auch \\ninner  halb von 3   Monaten vor dem  Beginn der \\n Arbeitslosigkeit  geschehen. Beachten Sie jedoch bitte \\nunbedingt die  Hinweise zur gesonderten Arbeitsuchendmeldung in  »  Abschnitt  1.\\n HINWEIS', metadata={'page': 14, 'rm_header': True, 'section_number': '1.', 'section_title': ' Was müssen Sie tun, wenn Arbeitslosigkeit droht?', 'source': '../pdf_files/merkblatt-fuer-arbeitslose_ba036520.pdf', 'topic': 'Arbeitslosengeld'}),\n",
       "  1.2002075910568237),\n",
       " (Document(page_content='einer selbständigen Tätig  keit bzw. bevor  die Kosten \\nentstanden sind, bean  tragen.\\nHinweise für Arbeitslose, die kein Arbeitslosengeld \\nbeziehen:\\nInformationen über Ihre Rechte und Pflichten finden \\nSie im » Faltblatt „ Arbeitssuchende und Arbeitslose \\nohne Anspruch auf Arbeitslosengeld “ \\nInsolvenzgeld\\nFalls Ihr letzter Arbeitgeber seine Zahlungen einstellen \\nmusste, haben Sie möglicherweise noch Ansprüche \\nauf rückständiges Arbeitsentgelt. In diesem Falle \\n können Sie unter bestimmten Voraussetzungen', metadata={'page': 90, 'rm_header': True, 'section_number': '16.', 'section_title': 'Weitere Hilfen', 'source': '../pdf_files/merkblatt-fuer-arbeitslose_ba036520.pdf', 'topic': 'Arbeitslosengeld'}),\n",
       "  1.2024163061812625),\n",
       " (Document(page_content='haben, setzen Sie sich bitte unverzüglich mit dem für \\nSie zuständigen Jobcenter in Verbindung. Dieses wird \\nprüfen, ob Ihnen gegebenenfalls zusätzliche Leistun \\xad\\ngen der Grundsicherung für Arbeitsuchende ( Bürger \\xad\\ngeld) zustehen.\\n4.5 Weitere Regelungen\\nArbeitslosengeld verringert sich, wenn Sie nicht mehr \\ndie Zahl von Arbeitsstunden leisten können oder wol \\xad\\nlen, die Sie im Bemessungszeitraum geleistet haben \\n(z. B. wenn Sie wegen Betreuung eines Kindes oder', metadata={'page': 49, 'rm_header': True, 'section_number': '4.3', 'section_title': 'Allgemeiner oder erhöhter Leistungssatz', 'source': '../pdf_files/merkblatt-fuer-arbeitslose_ba036520.pdf', 'topic': 'Arbeitslosengeld'}),\n",
       "  1.2216854095458984),\n",
       " (Document(page_content='die Jobcenter . \\n HINWEIS\\nSollten Sie zeitgleich Arbeitslosengeld von Ihrer Agentur für Arbeit beziehen, erhalten Sie im Jobcenter aufstockendes Bürgergeld. Die vermitt  lerische Betreuung \\nverbleibt bei der Agentur für Arbeit.\\n2.2  Von der Antragstellung zum Bescheid – \\nDie einzelnen Stationen im Jobcenter\\nEmpfang\\nIn vielen Jobcentern gibt es einen Empfang, auch Kundenservice genannt. Hier tragen Sie zuerst Ihr Anliegen', metadata={'page': 11, 'rm_header': True, 'section_number': '1', 'section_title': 'Was bedeutet “Bürgergeld, Grundsicherung für Arbeitsuchende“', 'source': '../pdf_files/merkblatt-buergergeld_ba043375.pdf', 'topic': 'Bürgergeld'}),\n",
       "  1.2280288934707642),\n",
       " (Document(page_content='HINWEIS\\nBeachten Sie hierzu das » Merkblatt Bürgergeld  – \\nGrundsicherung für Arbeitsuchende – SGB II .\\nFür Leistungen zur Sicherung des Lebensunterhaltes \\nist eine Antragstellung erforderlich. Um Nachteile zu \\nvermeiden, stellen Sie den Antrag gegebenenfalls \\n umgehend. Der Antrag ist bei dem für Sie zuständigen \\nJobcenter zu stellen. Zuständig ist das Jobcenter, in \\ndessen Bezirk Sie Ihren gewöhnlichen Aufenthalt \\n haben.', metadata={'page': 91, 'rm_header': True, 'section_number': '16.', 'section_title': 'Weitere Hilfen', 'source': '../pdf_files/merkblatt-fuer-arbeitslose_ba036520.pdf', 'topic': 'Arbeitslosengeld'}),\n",
       "  1.2319030762924281),\n",
       " (Document(page_content='Wenn Sie während einer Sperrzeit Ihren Lebensunter \\xad\\nhalt aus Ihren vorhandenen Geldmitteln nicht bestreiten \\nkönnen, setzen Sie sich bitte unverzüglich mit dem für \\nSie zuständigen Jobcenter in Verbindung. Dieses wird \\nprüfen, ob Ihnen gegebenenfalls Leistungen der Grund \\xad\\nsicherung für Arbeitsuchende ( Bürgergeld) zu  stehen.\\nBei einer festgesetzten Sperrzeit werden etwaige \\n Leistungen der Grundsicherung aufgrund einer eintretenden Leistungsminderung nur gemindert gewährt.', metadata={'page': 58, 'rm_header': True, 'section_number': '6.', 'section_title': 'Sperrzeit', 'source': '../pdf_files/merkblatt-fuer-arbeitslose_ba036520.pdf', 'topic': 'Arbeitslosengeld'}),\n",
       "  1.2467925548553467)]"
      ]
     },
     "execution_count": 6,
     "metadata": {},
     "output_type": "execute_result"
    }
   ],
   "source": [
    "database.similarity_search_with_score(\"I will be unemployed soon and need help. What should I do next?\", k=10)"
   ]
  },
  {
   "cell_type": "markdown",
   "metadata": {},
   "source": [
    "**You can see, that the scores are different and obviously the german question is more similar to the documents. But you can also recognize, that you will get different documents. Some documents are the same but may have a different \"rank\" in the order. So depending on the use case, embedding model and/or LLM, it might be beneficial to translate the user's query into the language of the database first to receive better/different results.**"
   ]
  },
  {
   "cell_type": "markdown",
   "metadata": {},
   "source": [
    "### Let's setup a retrieval chain (without a LLM)\n",
    "\n",
    "- the documents are in german, so that's why I translate the query into the same language\n",
    "- For this example I excluded the llm (not in focus)\n",
    "\n",
    "#### Let's show first how you usually setup a retrieval chain without a translator (comparison)"
   ]
  },
  {
   "cell_type": "code",
   "execution_count": 7,
   "metadata": {},
   "outputs": [
    {
     "name": "stdout",
     "output_type": "stream",
     "text": [
      "Answer the question based only on the following context:\n",
      "\n",
      "land arbeiten, erhalten Sie bei Arbeits  losigkeit grund ­\n",
      "sätzlich Leistungen von Ihrem Wohnortstaat. Zur \n",
      " Sicherung möglicher Ansprüche melden Sie sich bitte \n",
      "zeitnah beim Träger der Arbeits  losenversicherung in \n",
      "Ihrem Wohnortstaat.\n",
      "2.2 Antrag stellen \n",
      "Sie können den Antrag online unter  \n",
      "» www.arbeitsagentur.de /eservices » Leistungen \n",
      "und Angebote der Agentur für Arbeit \n",
      "»  Arbeitslosengeld beantragen“  stellen. Es reicht \n",
      "aus, wenn Sie den Antrag ca. 2  Wochen vor Eintritt der\n",
      "\n",
      "Weitere Hilfen\n",
      "Teilarbeitslosengeld\n",
      "Wenn Sie teilarbeitslos sind, besteht die Möglichkeit \n",
      "Teilarbeitslosengeld zu beziehen. Sie sind teilarbeits ­\n",
      "los, wenn Sie eine versicherungspflichtige Beschäfti ­\n",
      "gung, die Sie neben mindestens einer weiteren versicherungspflichtigen Beschäftigung ausgeübt haben, \n",
      "verloren haben und eine versicherungspflichtige \n",
      " Beschäftigung suchen. Das » Merkblatt  1a für Teilarbeitslose finden Sie unter: » www.arbeitsagentur.de \n",
      "» Download-Center » Kachel: Arbeitslos und Arbeit\n",
      "\n",
      "2.  Was müssen Sie tun, wenn \n",
      "Arbeitslosigkeit eintritt?\n",
      "2.1 Arbeitslos melden\n",
      "Leistungen können Sie nur erhalten, wenn Sie der \n",
      " zuständigen Agentur für Arbeit Ihre Arbeitslosigkeit \n",
      " gemeldet haben. Sie können sich hierzu online \n",
      " arbeitslos melden. Sie benötigen dafür nur ein Aus ­\n",
      "weisdokument mit Online-Ausweisfunktion, die kosten ­\n",
      "lose AusweisApp sowie ein Smartphone oder ein \n",
      "Karten  lesegerät. Starten Sie die Online Arbeitslosmeldung auf » www.arbeitsagentur.de /eservices\n",
      "\n",
      "wieder arbeitsuchend zu melden (vgl. » Abschnitt 1 ). \n",
      "Über Fristen und das Verfahren für die Arbeitsuchend ­\n",
      "meldung informieren Sie sich bitte bei Ihrer Agentur für \n",
      "Arbeit. Um Nachteile zu vermeiden, müssen Sie sich \n",
      "auch erneut – spätestens am ersten Tag der Arbeitslosigkeit – online im Fachportal der Bundesagentur für \n",
      "Arbeit oder persönlich bei Ihrer Agentur für Arbeit \n",
      "arbeits  los melden (vgl. » Abschnitt 2.1 ).\n",
      "Üben Sie unentgeltlich eine ehrenamtliche Tätigkeit\n",
      "\n",
      "Question: I will be unemployed soon and need help. What should I do next?\n",
      "\n"
     ]
    }
   ],
   "source": [
    "usual_retrieval_chain = {\n",
    "    \"context\":  database.as_retriever() | format_docs,\n",
    "    \"question\": RunnablePassthrough(),\n",
    "} | SIMPLE_RAG_PROMPT\n",
    "\n",
    "results = usual_retrieval_chain.invoke(\"I will be unemployed soon and need help. What should I do next?\")\n",
    "print(results.messages[0].content)"
   ]
  },
  {
   "cell_type": "markdown",
   "metadata": {},
   "source": [
    "##### Let's change the LCEL Chain and integrate the translator"
   ]
  },
  {
   "cell_type": "code",
   "execution_count": 8,
   "metadata": {},
   "outputs": [
    {
     "name": "stdout",
     "output_type": "stream",
     "text": [
      "Answer the question based only on the following context:\n",
      "\n",
      "» Leistungen und Angebote der Agentur für Arbeit \n",
      "» Arbeitsuchend und arbeitslos melden.  Oder Sie \n",
      " suchen Ihre Agentur für Arbeit auf, um sich persönlich \n",
      "arbeitslos zu melden.\n",
      "Es ist wichtig, dass Sie sich spätestens am 1. Tag der \n",
      "Arbeitslosigkeit arbeitslos melden; dies kann auch \n",
      "inner  halb von 3   Monaten vor dem  Beginn der \n",
      " Arbeitslosigkeit  geschehen. Beachten Sie jedoch bitte \n",
      "unbedingt die  Hinweise zur gesonderten Arbeitsuchendmeldung in  »  Abschnitt  1.\n",
      " HINWEIS\n",
      "\n",
      "wieder arbeitsuchend zu melden (vgl. » Abschnitt 1 ). \n",
      "Über Fristen und das Verfahren für die Arbeitsuchend ­\n",
      "meldung informieren Sie sich bitte bei Ihrer Agentur für \n",
      "Arbeit. Um Nachteile zu vermeiden, müssen Sie sich \n",
      "auch erneut – spätestens am ersten Tag der Arbeitslosigkeit – online im Fachportal der Bundesagentur für \n",
      "Arbeit oder persönlich bei Ihrer Agentur für Arbeit \n",
      "arbeits  los melden (vgl. » Abschnitt 2.1 ).\n",
      "Üben Sie unentgeltlich eine ehrenamtliche Tätigkeit\n",
      "\n",
      "land arbeiten, erhalten Sie bei Arbeits  losigkeit grund ­\n",
      "sätzlich Leistungen von Ihrem Wohnortstaat. Zur \n",
      " Sicherung möglicher Ansprüche melden Sie sich bitte \n",
      "zeitnah beim Träger der Arbeits  losenversicherung in \n",
      "Ihrem Wohnortstaat.\n",
      "2.2 Antrag stellen \n",
      "Sie können den Antrag online unter  \n",
      "» www.arbeitsagentur.de /eservices » Leistungen \n",
      "und Angebote der Agentur für Arbeit \n",
      "»  Arbeitslosengeld beantragen“  stellen. Es reicht \n",
      "aus, wenn Sie den Antrag ca. 2  Wochen vor Eintritt der\n",
      "\n",
      "einer selbständigen Tätig  keit bzw. bevor  die Kosten \n",
      "entstanden sind, bean  tragen.\n",
      "Hinweise für Arbeitslose, die kein Arbeitslosengeld \n",
      "beziehen:\n",
      "Informationen über Ihre Rechte und Pflichten finden \n",
      "Sie im » Faltblatt „ Arbeitssuchende und Arbeitslose \n",
      "ohne Anspruch auf Arbeitslosengeld “ \n",
      "Insolvenzgeld\n",
      "Falls Ihr letzter Arbeitgeber seine Zahlungen einstellen \n",
      "musste, haben Sie möglicherweise noch Ansprüche \n",
      "auf rückständiges Arbeitsentgelt. In diesem Falle \n",
      " können Sie unter bestimmten Voraussetzungen\n",
      "\n",
      "Question: I will be unemployed soon and need help. What should I do next?\n",
      "\n"
     ]
    }
   ],
   "source": [
    "translator_retrieval_chain = {\n",
    "    \"context\": translator | database.as_retriever() | format_docs,\n",
    "    \"question\": RunnablePassthrough(),\n",
    "} | SIMPLE_RAG_PROMPT\n",
    "\n",
    "results = translator_retrieval_chain.invoke(\"I will be unemployed soon and need help. What should I do next?\")\n",
    "print(results.messages[0].content)"
   ]
  },
  {
   "cell_type": "markdown",
   "metadata": {},
   "source": [
    "##### If you want to return translated question too:"
   ]
  },
  {
   "cell_type": "code",
   "execution_count": 15,
   "metadata": {},
   "outputs": [],
   "source": [
    "SIMPLE_RAG = \"\"\"Answer the question based only on the following context:\n",
    "\n",
    "Original Question: {question}\n",
    "Translation: {translation}\n",
    "\n",
    "{context}\n",
    "\"\"\"\n",
    "RAG_PROMPT = ChatPromptTemplate.from_template(SIMPLE_RAG)"
   ]
  },
  {
   "cell_type": "code",
   "execution_count": 16,
   "metadata": {},
   "outputs": [],
   "source": [
    "translator_retrieval_chain = {\n",
    "    \"context\": translator | database.as_retriever() | format_docs,\n",
    "    \"question\": RunnablePassthrough(),\n",
    "    \"translation\": translator # Only to show the output\n",
    "} | RAG_PROMPT"
   ]
  },
  {
   "cell_type": "code",
   "execution_count": 17,
   "metadata": {},
   "outputs": [
    {
     "name": "stdout",
     "output_type": "stream",
     "text": [
      "Answer the question based only on the following context:\n",
      "\n",
      "Original Question: I will be unemployed soon and need help. What should I do next?\n",
      "Translation: Ich werde bald arbeitslos sein und brauche Hilfe. Was soll ich als nächstes tun?\n",
      "\n",
      "» Leistungen und Angebote der Agentur für Arbeit \n",
      "» Arbeitsuchend und arbeitslos melden.  Oder Sie \n",
      " suchen Ihre Agentur für Arbeit auf, um sich persönlich \n",
      "arbeitslos zu melden.\n",
      "Es ist wichtig, dass Sie sich spätestens am 1. Tag der \n",
      "Arbeitslosigkeit arbeitslos melden; dies kann auch \n",
      "inner  halb von 3   Monaten vor dem  Beginn der \n",
      " Arbeitslosigkeit  geschehen. Beachten Sie jedoch bitte \n",
      "unbedingt die  Hinweise zur gesonderten Arbeitsuchendmeldung in  »  Abschnitt  1.\n",
      " HINWEIS\n",
      "\n",
      "wieder arbeitsuchend zu melden (vgl. » Abschnitt 1 ). \n",
      "Über Fristen und das Verfahren für die Arbeitsuchend ­\n",
      "meldung informieren Sie sich bitte bei Ihrer Agentur für \n",
      "Arbeit. Um Nachteile zu vermeiden, müssen Sie sich \n",
      "auch erneut – spätestens am ersten Tag der Arbeitslosigkeit – online im Fachportal der Bundesagentur für \n",
      "Arbeit oder persönlich bei Ihrer Agentur für Arbeit \n",
      "arbeits  los melden (vgl. » Abschnitt 2.1 ).\n",
      "Üben Sie unentgeltlich eine ehrenamtliche Tätigkeit\n",
      "\n",
      "land arbeiten, erhalten Sie bei Arbeits  losigkeit grund ­\n",
      "sätzlich Leistungen von Ihrem Wohnortstaat. Zur \n",
      " Sicherung möglicher Ansprüche melden Sie sich bitte \n",
      "zeitnah beim Träger der Arbeits  losenversicherung in \n",
      "Ihrem Wohnortstaat.\n",
      "2.2 Antrag stellen \n",
      "Sie können den Antrag online unter  \n",
      "» www.arbeitsagentur.de /eservices » Leistungen \n",
      "und Angebote der Agentur für Arbeit \n",
      "»  Arbeitslosengeld beantragen“  stellen. Es reicht \n",
      "aus, wenn Sie den Antrag ca. 2  Wochen vor Eintritt der\n",
      "\n",
      "einer selbständigen Tätig  keit bzw. bevor  die Kosten \n",
      "entstanden sind, bean  tragen.\n",
      "Hinweise für Arbeitslose, die kein Arbeitslosengeld \n",
      "beziehen:\n",
      "Informationen über Ihre Rechte und Pflichten finden \n",
      "Sie im » Faltblatt „ Arbeitssuchende und Arbeitslose \n",
      "ohne Anspruch auf Arbeitslosengeld “ \n",
      "Insolvenzgeld\n",
      "Falls Ihr letzter Arbeitgeber seine Zahlungen einstellen \n",
      "musste, haben Sie möglicherweise noch Ansprüche \n",
      "auf rückständiges Arbeitsentgelt. In diesem Falle \n",
      " können Sie unter bestimmten Voraussetzungen\n",
      "\n"
     ]
    }
   ],
   "source": [
    "results = translator_retrieval_chain.invoke(\"I will be unemployed soon and need help. What should I do next?\")\n",
    "print(results.messages[0].content)"
   ]
  },
  {
   "cell_type": "markdown",
   "metadata": {},
   "source": [
    "## If you want to translate the retrieved document for your final LLM prompt, you can use the DocumentPreprocessorPipe:"
   ]
  },
  {
   "cell_type": "code",
   "execution_count": 12,
   "metadata": {},
   "outputs": [],
   "source": [
    "from textprepper import DocumentPreprocessorPipe"
   ]
  },
  {
   "cell_type": "code",
   "execution_count": 13,
   "metadata": {},
   "outputs": [],
   "source": [
    "en_trans = GoogleTrans(target_lng=\"english\")\n",
    "trans = DocumentPreprocessorPipe([en_trans])\n",
    "\n",
    "# Use the .from_documents method of the DocumentPreprocessorPipe instance\n",
    "lcel = RunnablePassthrough() | translator | database.as_retriever() | trans.from_documents"
   ]
  },
  {
   "cell_type": "code",
   "execution_count": 14,
   "metadata": {},
   "outputs": [
    {
     "data": {
      "text/plain": [
       "[Document(page_content='money, transitional allowance, pension due to full working life\\nment or incapacity to work, the old age pension\\nthe statutory pension insurance, the Knapp\\nsocial compensation benefit or similar public benefits\\npublic law), your entitlement to unemployment is suspended\\nsengeld in whole or in part. The corresponding\\nLegal regulations are intended to prevent “double payment”\\nimpede.\\nIf you receive parental allowance, this corresponds to the receipt of\\nUnemployment benefits are not available. However, you must', metadata={'page': 59, 'rm_header': True, 'section_number': '6.', 'section_title': 'Sperrzeit', 'source': '../pdf_files/merkblatt-fuer-arbeitslose_ba036520.pdf', 'topic': 'Arbeitslosengeld'}),\n",
       " Document(page_content='on unemployment benefits even if you are in the', metadata={'page': 29, 'rm_header': True, 'section_number': '2.5', 'section_title': 'Verfügbar sein', 'source': '../pdf_files/merkblatt-fuer-arbeitslose_ba036520.pdf', 'topic': 'Arbeitslosengeld'}),\n",
       " Document(page_content='Your entitlement to unemployment benefit\\nYou are entitled to unemployment benefit if you are unemployed or participate in a subsidized job\\n Further professional training (see also the\\n Information in » Information Sheet 6 – Promotion of\\nvocational training).\\n3.1 Waiting period\\nWhen you register for unemployment you already have one\\nimportant eligibility requirements are met. Unemployed\\nBut you can only receive money if you – besides\\nthe eligibility requirements stated in Section 2', metadata={'page': 29, 'rm_header': True, 'section_number': '2.5', 'section_title': 'Verfügbar sein', 'source': '../pdf_files/merkblatt-fuer-arbeitslose_ba036520.pdf', 'topic': 'Arbeitslosengeld'}),\n",
       " Document(page_content='holiday). Unemployment benefits could be paid from Friday\\nbecome.\\nEven if you receive redundancy pay\\n(severance payment, compensation or similar benefit).\\nhold, your entitlement to benefits is suspended for a specific period\\nTime when you were unable to terminate or the employer\\nthe notice period on the part of the party has not been observed;\\nDetails on this can be found in » Information Sheet 17.', metadata={'page': 60, 'rm_header': True, 'section_number': '7.1', 'section_title': 'Ruhen bei Sozialleistungen', 'source': '../pdf_files/merkblatt-fuer-arbeitslose_ba036520.pdf', 'topic': 'Arbeitslosengeld'})]"
      ]
     },
     "execution_count": 14,
     "metadata": {},
     "output_type": "execute_result"
    }
   ],
   "source": [
    "lcel.invoke(\"Arbeitslosengeld\")"
   ]
  }
 ],
 "metadata": {
  "kernelspec": {
   "display_name": "textprepper-a_Do2pGY-py3.11",
   "language": "python",
   "name": "python3"
  },
  "language_info": {
   "codemirror_mode": {
    "name": "ipython",
    "version": 3
   },
   "file_extension": ".py",
   "mimetype": "text/x-python",
   "name": "python",
   "nbconvert_exporter": "python",
   "pygments_lexer": "ipython3",
   "version": "3.11.7"
  }
 },
 "nbformat": 4,
 "nbformat_minor": 2
}
