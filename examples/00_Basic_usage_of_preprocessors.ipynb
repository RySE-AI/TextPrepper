{
 "cells": [
  {
   "cell_type": "markdown",
   "metadata": {},
   "source": [
    "# Example Usage of Preprocessors and DocumentProcessorPipe"
   ]
  },
  {
   "cell_type": "markdown",
   "metadata": {},
   "source": [
    "## Create some Dummy Documents"
   ]
  },
  {
   "cell_type": "code",
   "execution_count": 85,
   "metadata": {},
   "outputs": [],
   "source": [
    "from langchain_community.document_loaders import PyPDFLoader\n",
    "\n",
    "loader = PyPDFLoader(file_path=\"data/merkblatt-fuer-arbeitslose_ba036520.pdf\")\n",
    "pages = loader.load_and_split()\n",
    "examples = pages[20:25]"
   ]
  },
  {
   "cell_type": "code",
   "execution_count": 86,
   "metadata": {},
   "outputs": [
    {
     "name": "stdout",
     "output_type": "stream",
     "text": [
      "Page 0\n",
      "##################################################\n",
      "2. Was müssen Sie tun, wenn Arbeitslosigkeit eintritt?\n",
      "22Welche konkreten Aktivitäten Sie im Rahmen der \n",
      "Arbeit  suche unternehmen bzw. wie Sie Ihre Eigen -\n",
      "bemühungen nachweisen müssen, entnehmen Sie \n",
      " Ihrer Eingliederungsvereinbarung bzw. der schriftlichen \n",
      "Festsetzung Ihrer Eigenbemühungen. Erbringen Sie \n",
      "die Pflichten im Zusammenhang mit den Eigenbemü ­\n",
      "hungen nicht, nicht rechtzeitig oder nicht vollständig, \n",
      "tritt eine Sperrzeit ein (siehe hierzu » Abschnitt 6) .\n",
      "Wollen Sie die Pflichten aus der Eingliederungsverein ­\n",
      "barung nicht erfüllen bzw. keine Eigenbemühungen un ­\n",
      "ternehmen, haben Sie keinen Leistungsanspruch bzw. \n",
      "kann Ihr Leistungsanspruch – gegebenenfalls rückwir ­\n",
      "kend – entfallen.\n",
      "Falls Sie an einer Beschäftigung im Ausland \n",
      "(EU, EWR oder der Schweiz)  interessiert sind und \n",
      "dort eine Beschäftigung suchen wollen, können Sie das \n",
      "deutsche Arbeitslosengeld für einen begrenzten Zeit ­\n",
      "raum weiterhin im Ausland beziehen. Bitte informieren \n",
      "Sie sich ggf. vor Ihrer Ausreise  bei Ihrer Agentur \n",
      "für Arbeit über die Voraussetzungen und das Ver -\n",
      "fahren. Weitergehende Informationen finden Sie im \n",
      "»  Merkblatt  20 „Arbeitslosengeld und \n",
      "Auslandsbeschäf  tigung“.\n",
      "Anmerkung: Wegen des Brexits ist eine Mitnahme des \n",
      "deutschen Arbeitslosengeldes zur Arbeitssuche in \n",
      "Großbritannien nur noch in Ausnahmefällen möglich.\n",
      "2.5 Verfügbar sein\n",
      "Um Anspruch auf Arbeitslosengeld zu haben, müssen \n",
      "Sie für Vermittlungsbemühungen  Ihrer Agentur für \n",
      "Arbeit zur Verfügung stehen . Sie müssen\n",
      "• Vorschlägen  der Arbeitsagentur   zur   beruflichen  \n",
      "Eingliederung zeit- und ortsnah Folge leisten. Sie \n",
      "haben deshalb sicherzustellen, dass Ihre Agentur \n",
      "für Arbeit Sie persönlich an jedem Werktag unter\n",
      "##################################################\n",
      "\n",
      "Page 1\n",
      "##################################################\n",
      "232. Was müssen Sie tun, wenn Arbeitslosigkeit eintritt?\n",
      "der von Ihnen benannten Anschrift (Wohnung) \n",
      "durch Briefpost erreichen kann.  Wenn Sie den ­\n",
      "noch beabsichtigen, sich vorübergehend unter einer \n",
      " anderen Anschrift aufzuhalten, benachrichtigen Sie \n",
      "bitte die Agentur für Arbeit rechtzeitig, möglichst \n",
      "inner  halb von einer Woche vor der geplanten \n",
      "Ortsabwesenheit/ Reise. Sie wird Sie informieren, \n",
      "ob und unter welchen Bedingungen ein leistungs -\n",
      "unschädlicher Aufenthalt möglich ist. Verreisen Sie \n",
      "ohne vorherige Unterrichtung und Zustimmung \n",
      " Ihrer Agentur für Arbeit , wird die Bewilligung der \n",
      "Leistung rückwirkend vom Reisebeginn an aufge -\n",
      "hoben (vgl. die » Hinweise  zur Erstattungspflicht  \n",
      "in Abschnitt 8.3 )\n",
      "Nähere Informationen enthält das Informationsblatt \n",
      "» „Wissenswertes zum Thema Umzug und  Reisen“ ,\n",
      "• eine versicherungspflichtige,  mindestens  \n",
      "15 Stunden wöchentlich umfassende Beschäfti -\n",
      "gung unter den auf dem Arbeitsmarkt allgemein \n",
      "üblichen Arbeitsbedingungen ausüben können \n",
      "und dürfen.  Betreuen Sie aufsichtsbedürftige Kinder \n",
      "oder pflegebedürftige Personen, muss die weitere \n",
      "Betreuung sichergestellt sein, wenn Sie eine Be ­\n",
      "schäftigung aufnehmen. Eine Einschränkung auf Teil ­\n",
      "zeit ist nur zulässig, wenn die Teilzeitbeschäftigung \n",
      "den üblichen Bedingungen des für Sie in Betracht \n",
      "kommenden Arbeitsmarktes entspricht,\n",
      "• bereit sein, zumutbaren Vorschlägen zur Teilnahme \n",
      "an Maßnahmen  der beruflichen  Eingliederung  \n",
      "nachzukommen,\n",
      "• bereit sein, jede zumutbare Beschäftigung  anzu ­\n",
      "nehmen. Eine Beschäftigung kann auch zumutbar \n",
      "sein, wenn\n",
      "• sie nicht unbedingt Ihrer Ausbildung oder Ihrer \n",
      "bisherigen beruflichen Tätigkeit entspricht,\n",
      "• der neue Arbeitsplatz weiter als der bisherige von  \n",
      "Ihrer Wohnung entfernt ist,\n",
      "• zur Aufnahme der Beschäftigung ein Umzug  \n",
      "erforderlich ist,\n",
      "##################################################\n",
      "\n",
      "Page 2\n",
      "##################################################\n",
      "2. Was müssen Sie tun, wenn Arbeitslosigkeit eintritt?\n",
      "24• die Arbeitsbedingungen ungünstiger sind als die  \n",
      "bisherigen, z.  B. 30  % weniger als das Entgelt, das \n",
      "Ihrer Bemessung zugrunde liegt, bezahlt wird,\n",
      "• die Dauer, Lage und/oder Verteilung der Arbeitszeit \n",
      "ungünstiger ist/sind als bisher.\n",
      " HINWEIS\n",
      "Während einer beruflichen Weiterbildung, die nicht von \n",
      "der Agentur für Arbeit gefördert wird, kann unter \n",
      " bestimmten Voraussetzungen das Arbeitslosengeld \n",
      "weitergezahlt werden. Voraussetzung hierfür ist unter \n",
      "anderem die vorherige Zustimmung der Agentur für \n",
      " Arbeit. Erkundigen Sie sich daher bitte vor Beginn der \n",
      "Weiterbildung bei Ihrer Agentur für Arbeit, was Sie zu \n",
      "beachten haben.\n",
      "Zur Gewährung von Arbeitslosengeld bei einer von  \n",
      "der Agentur für Arbeit geförderten Weiterbildung siehe \n",
      "» Abschnitt 5.\n",
      "Bei Teilnahme an Maßnahmen, die zur Verbesserung \n",
      "der Eingliederungsaussichten beitragen ( Maßnahmen \n",
      "zur Aktivierung und beruflichen Eingliederung), können \n",
      "Sie Arbeitslosengeld weiter beziehen, wenn die Zuwei ­\n",
      "sung in diese Maßnahme bzw. die Bewilligung durch \n",
      "die Agentur für Arbeit vor Teilnahmebeginn erfolgt ist.\n",
      "Umzug/ Ortsabwesenheit\n",
      "Sie müssen für Ihre Agentur für Arbeit erreichbar sein. \n",
      "Erreichbar im Sinne der gesetzlichen Vorschriften be ­\n",
      "deutet, dass Sie an jedem Werktag  von Briefsendun ­\n",
      "gen der Agentur für Arbeit in Ihrer Wohnung Kenntnis \n",
      "nehmen  können. Deshalb müssen Sie mindestens \n",
      " einmal am Werktag Ihren Briefkasten leeren . Am \n",
      "Wochenende oder vor Feiertagen reicht es aus, \n",
      "wenn  Sie die an Samstagen oder Tagen vor Feiertagen\n",
      "##################################################\n",
      "\n",
      "Page 3\n",
      "##################################################\n",
      "252. Was müssen Sie tun, wenn Arbeitslosigkeit eintritt?\n",
      "eingehende Post am darauf folgenden Sonn- oder \n",
      "Feier  tag zur Kenntnis nehmen. Daher müssen Sie es \n",
      "Ihrer Agentur für Arbeit rechtzeitig mitteilen, wenn Sie \n",
      "(auch innerhalb derselben Gemeinde) umziehen oder \n",
      "an einem Werktag ganztags nicht zu Hause sind.\n",
      "Wenn Sie keine finanziellen Nachteile erleiden wollen, \n",
      "müssen Sie Ihrer Agentur für Arbeit jeden Umzug  \n",
      "rechtzeitig vor dem Umzugstermin, am besten eine \n",
      "Woche vorher, mitteilen. Beachten Sie bitte, dass bei \n",
      "einem gestellten Nachsendeantrag keine Erreichbarkeit \n",
      "vorliegt.\n",
      "Sind Sie an einem oder mehreren Werktagen ganz -\n",
      "tags unter der Ihrer Agentur für Arbeit bekannten \n",
      " Anschrift nicht zu erreichen ( sonstige Ortsabwesen -\n",
      "heit), ist dies ohne leistungsrechtliche Nachteile nur \n",
      "möglich, wenn Ihre Agentur für Arbeit vorher zuge ­\n",
      "stimmt hat.\n",
      " HINWEIS\n",
      "Teilen Sie Ihrer Agentur für Arbeit nach Möglichkeit \n",
      "spätestens 1 Woche vor dem Umzug Ihre neue \n",
      " Anschrift mit. Online  können  Sie diese Änderung auch \n",
      " bequem unter » www.arbeitsagentur.de/  eservices  im \n",
      "angemeldeten Bereich mitteilen.\n",
      "Häufig wird durch den Umzug in einen anderen Ort \n",
      "eine andere Agentur für Arbeit zuständig. Bei recht -\n",
      "zeitiger Mitteilung des Umzuges erfahren Sie von Ihrer \n",
      "Agentur für Arbeit, welche Agentur für Arbeit nunmehr \n",
      "für Sie zuständig ist. Die neue Agentur für Arbeit wird \n",
      "Sie zur Meldung dort auffordern. Nehmen Sie bitte die ­\n",
      "sen Termin unbedingt wahr. Teilen Sie Ihren Umzug \n",
      "erst nach dem Umzugstag mit, kann Ihre Leistung erst \n",
      "wieder ab dem Tag Ihrer Mitteilung bewilligt werden. \n",
      "Zum Thema Ortsabwesenheit beachten Sie bitte auch \n",
      "» Abschnitt 2.5 .\n",
      "##################################################\n",
      "\n",
      "Page 4\n",
      "##################################################\n",
      "2. Was müssen Sie tun, wenn Arbeitslosigkeit eintritt?\n",
      "26 HINWEIS\n",
      "Weitere Information finden Sie im Informationsblatt  \n",
      "„Wissenswertes zum Thema Umzug und Reisen“ \n",
      "unter: » www.arbeitsagentur.de  » Downloadcenter \n",
      "» Arbeitslos  und Arbeit   finden  » Informationen zum \n",
      "Arbeitslosengeld » Merkblatt Umzug und Reisen \n",
      "bei Bezug von Arbeitslosengeld\n",
      "Sind Sie ausländische/r ArbeitnehmerIn und besitzen \n",
      "einen Aufenthaltstitel, dürfen Sie eine Erwerbstätigkeit \n",
      "ausüben, es sei denn, ein Gesetz bestimmt ein Verbot. \n",
      "Jeder Aufenthaltstitel muss erkennen lassen, ob die \n",
      "Ausübung einer Erwerbstätigkeit erlaubt ist. Keiner \n",
      " Erlaubnis bedürfen – z.  B. – Staatsangehörige der \n",
      " Mitgliedstaaten der Europäischen Union / des Europä -\n",
      "ischen Wirtschaftsraumes und Staatsangehörige der \n",
      "Schweiz. \n",
      "Sind Sie Schülerin/ Schüler  oder Studentin/ Student  \n",
      "einer Schule, Hochschule oder sonstigen Ausbildungs ­\n",
      "stätte, können Sie grundsätzlich kein Arbeitslosengeld \n",
      "erhalten. Studentinnen/Studenten stehen für die \n",
      " Vermittlungsbemühungen der Agentur für Arbeit ab \n",
      "dem offiziellen Semesterbeginn nicht zur Verfügung. \n",
      "Eine Ausnahme gilt, wenn Sie nachweisen, dass die \n",
      "objektiven Anforderungen des Ausbildungsganges eine \n",
      "ver sicherungspflichtige, mindestens 15 Stunden \n",
      " wöchentlich umfassende Beschäftigung neben der \n",
      "Ausbildung oder in der Zeit zwischen der Immatrikula -\n",
      "tion und dem offiziellen Beginn der Lehrveranstaltun ­\n",
      "gen zulassen.\n",
      "Die Teilnahme an einer Maßnahme zur Abklärung \n",
      "der beruflichen  Eignung  oder an einer Arbeitser -\n",
      "probung  im Rahmen der Förderung der Teilhabe am \n",
      "Arbeitsleben schließt die Verfügbarkeit nicht aus.\n",
      "##################################################\n",
      "\n"
     ]
    }
   ],
   "source": [
    "for i, example in enumerate(examples):\n",
    "    print(f\"Page {i}\")\n",
    "    print(50*\"#\")\n",
    "    print(example.page_content)\n",
    "    print(50*\"#\" + \"\\n\")"
   ]
  },
  {
   "cell_type": "markdown",
   "metadata": {},
   "source": [
    "## Use a single Preprocessor - For one document\n",
    "\n",
    "- If you're using a preprocessor, it will overwrite the document's page_content inplace!\n",
    "- You can use the preprocessor on single string too"
   ]
  },
  {
   "cell_type": "code",
   "execution_count": 87,
   "metadata": {},
   "outputs": [],
   "source": [
    "from textprepper.removers import RemoveNewLines\n",
    "from textprepper.modifiers import UpperText"
   ]
  },
  {
   "cell_type": "code",
   "execution_count": 88,
   "metadata": {},
   "outputs": [],
   "source": [
    "original = examples[0]\n",
    "example = original.copy()\n",
    "print_index = 500"
   ]
  },
  {
   "cell_type": "code",
   "execution_count": 89,
   "metadata": {},
   "outputs": [
    {
     "name": "stdout",
     "output_type": "stream",
     "text": [
      "2. Was müssen Sie tun, wenn Arbeitslosigkeit eintritt?\n",
      "22Welche konkreten Aktivitäten Sie im Rahmen der \n",
      "Arbeit  suche unternehmen bzw. wie Sie Ihre Eigen -\n",
      "bemühungen nachweisen müssen, entnehmen Sie \n",
      " Ihrer Eingliederungsvereinbarung bzw. der schriftlichen \n",
      "Festsetzung Ihrer Eigenbemühungen. Erbringen Sie \n",
      "die Pflichten im Zusammenhang mit den Eigenbemü ­\n",
      "hungen nicht, nicht rechtzeitig oder nicht vollständig, \n",
      "tritt eine Sperrzeit ein (siehe hierzu » Abschnitt 6) .\n",
      "Wollen Sie die Pflichten au\n"
     ]
    }
   ],
   "source": [
    "print(original.page_content[:print_index])"
   ]
  },
  {
   "cell_type": "code",
   "execution_count": 90,
   "metadata": {},
   "outputs": [
    {
     "name": "stdout",
     "output_type": "stream",
     "text": [
      "2. WAS MÜSSEN SIE TUN, WENN ARBEITSLOSIGKEIT EINTRITT?\n",
      "22WELCHE KONKRETEN AKTIVITÄTEN SIE IM RAHMEN DER \n",
      "ARBEIT  SUCHE UNTERNEHMEN BZW. WIE SIE IHRE EIGEN -\n",
      "BEMÜHUNGEN NACHWEISEN MÜSSEN, ENTNEHMEN SIE \n",
      " IHRER EINGLIEDERUNGSVEREINBARUNG BZW. DER SCHRIFTLICHEN \n",
      "FESTSETZUNG IHRER EIGENBEMÜHUNGEN. ERBRINGEN SIE \n",
      "DIE PFLICHTEN IM ZUSAMMENHANG MIT DEN EIGENBEMÜ ­\n",
      "HUNGEN NICHT, NICHT RECHTZEITIG ODER NICHT VOLLSTÄNDIG, \n",
      "TRITT EINE SPERRZEIT EIN (SIEHE HIERZU » ABSCHNITT 6) .\n",
      "WOLLEN SIE DIE PFLICHTEN AU\n"
     ]
    }
   ],
   "source": [
    "# upper casing the document page_content\n",
    "preprocessor = UpperText()\n",
    "print(preprocessor(example).page_content[:print_index])"
   ]
  },
  {
   "cell_type": "code",
   "execution_count": 91,
   "metadata": {},
   "outputs": [
    {
     "name": "stdout",
     "output_type": "stream",
     "text": [
      "2. WAS MÜSSEN SIE TUN, WENN ARBEITSLOSIGKEIT EINTRITT?22WELCHE KONKRETEN AKTIVITÄTEN SIE IM RAHMEN DER ARBEIT  SUCHE UNTERNEHMEN BZW. WIE SIE IHRE EIGEN -BEMÜHUNGEN NACHWEISEN MÜSSEN, ENTNEHMEN SIE  IHRER EINGLIEDERUNGSVEREINBARUNG BZW. DER SCHRIFTLICHEN FESTSETZUNG IHRER EIGENBEMÜHUNGEN. ERBRINGEN SIE DIE PFLICHTEN IM ZUSAMMENHANG MIT DEN EIGENBEMÜ ­HUNGEN NICHT, NICHT RECHTZEITIG ODER NICHT VOLLSTÄNDIG, TRITT EINE SPERRZEIT EIN (SIEHE HIERZU » ABSCHNITT 6) .WOLLEN SIE DIE PFLICHTEN AUS DER EIN\n"
     ]
    }
   ],
   "source": [
    "# Removing all single newlines of the Document \"\\n\"\n",
    "preprocessor = RemoveNewLines(count=1)\n",
    "print(preprocessor(example).page_content[:print_index])"
   ]
  },
  {
   "cell_type": "markdown",
   "metadata": {},
   "source": [
    "## Use the DocumentPipe with mutiple Preprocessors for a single document\n",
    "\n",
    "- if you know torchvision's transform/compose logic, this should look familiar to you\n",
    "- You can pass a list of preprocessors to the `DocumentPreprocessorPipe` class\n",
    "- By calling the class instance on a document, it will apply each preprocessor sequentially\n",
    "- you can use the `.from_documents()` method of the pipe class, which will loops over all passed documents"
   ]
  },
  {
   "cell_type": "code",
   "execution_count": 92,
   "metadata": {},
   "outputs": [],
   "source": [
    "from textprepper import DocumentPreprocessorPipe\n",
    "\n",
    "from textprepper.removers import RemoveNewLines, RemovePunctuation\n",
    "from textprepper.modifiers import UpperText, LowerText"
   ]
  },
  {
   "cell_type": "code",
   "execution_count": 93,
   "metadata": {},
   "outputs": [],
   "source": [
    "example_pipe = original.copy()\n",
    "preprocessors = [\n",
    "                 RemoveNewLines(count=1), # removes all single newlines (ONLY)\n",
    "                 UpperText(), # you saw before what upper does\n",
    "                 LowerText(), # -> This will lower all chars\n",
    "                 RemovePunctuation() # Removes all punctuations\n",
    "                 ]\n",
    "doc_pipe = DocumentPreprocessorPipe(preprocessors)"
   ]
  },
  {
   "cell_type": "code",
   "execution_count": 94,
   "metadata": {},
   "outputs": [
    {
     "name": "stdout",
     "output_type": "stream",
     "text": [
      "2 was müssen sie tun wenn arbeitslosigkeit eintritt22welche konkreten aktivitäten sie im rahmen der arbeit  suche unternehmen bzw wie sie ihre eigen bemühungen nachweisen müssen entnehmen sie  ihrer eingliederungsvereinbarung bzw der schriftlichen festsetzung ihrer eigenbemühungen erbringen sie die pflichten im zusammenhang mit den eigenbemü ­hungen nicht nicht rechtzeitig oder nicht vollständig tritt eine sperrzeit ein siehe hierzu » abschnitt 6 wollen sie die pflichten aus der eingliederungsve\n"
     ]
    }
   ],
   "source": [
    "print(doc_pipe(example_pipe).page_content[:print_index])"
   ]
  },
  {
   "cell_type": "code",
   "execution_count": 95,
   "metadata": {},
   "outputs": [],
   "source": [
    "pipe_examples = [doc.copy() for doc in examples]"
   ]
  },
  {
   "cell_type": "code",
   "execution_count": 96,
   "metadata": {},
   "outputs": [],
   "source": [
    "results = doc_pipe.from_documents(pipe_examples)"
   ]
  },
  {
   "cell_type": "code",
   "execution_count": 97,
   "metadata": {},
   "outputs": [
    {
     "data": {
      "text/plain": [
       "[Document(page_content='2 was müssen sie tun wenn arbeitslosigkeit eintritt22welche konkreten aktivitäten sie im rahmen der arbeit  suche unternehmen bzw wie sie ihre eigen bemühungen nachweisen müssen entnehmen sie  ihrer eingliederungsvereinbarung bzw der schriftlichen festsetzung ihrer eigenbemühungen erbringen sie die pflichten im zusammenhang mit den eigenbemü \\xadhungen nicht nicht rechtzeitig oder nicht vollständig tritt eine sperrzeit ein siehe hierzu » abschnitt 6 wollen sie die pflichten aus der eingliederungsverein \\xadbarung nicht erfüllen bzw keine eigenbemühungen un \\xadternehmen haben sie keinen leistungsanspruch bzw kann ihr leistungsanspruch – gegebenenfalls rückwir \\xadkend – entfallenfalls sie an einer beschäftigung im ausland eu ewr oder der schweiz  interessiert sind und dort eine beschäftigung suchen wollen können sie das deutsche arbeitslosengeld für einen begrenzten zeit \\xadraum weiterhin im ausland beziehen bitte informieren sie sich ggf vor ihrer ausreise  bei ihrer agentur für arbeit über die voraussetzungen und das ver fahren weitergehende informationen finden sie im »  merkblatt  20 „arbeitslosengeld und auslandsbeschäf  tigung“anmerkung wegen des brexits ist eine mitnahme des deutschen arbeitslosengeldes zur arbeitssuche in grossbritannien nur noch in ausnahmefällen möglich25 verfügbar seinum anspruch auf arbeitslosengeld zu haben müssen sie für vermittlungsbemühungen  ihrer agentur für arbeit zur verfügung stehen  sie müssen• vorschlägen \\xa0der\\xa0arbeitsagentur \\xa0 zur \\xa0 beruflichen \\xa0eingliederung zeit und ortsnah folge leisten sie haben deshalb sicherzustellen dass ihre agentur für arbeit sie persönlich an jedem werktag unter', metadata={'source': 'data/merkblatt-fuer-arbeitslose_ba036520.pdf', 'page': 21}),\n",
       " Document(page_content='232 was müssen sie tun wenn arbeitslosigkeit eintrittder von ihnen benannten anschrift wohnung durch briefpost erreichen kann  wenn sie den \\xadnoch beabsichtigen sich vorübergehend unter einer  anderen anschrift aufzuhalten benachrichtigen sie bitte die agentur für arbeit rechtzeitig möglichst inner  halb von einer woche vor der geplanten ortsabwesenheit reise sie wird sie informieren ob und unter welchen bedingungen ein leistungs unschädlicher aufenthalt möglich ist verreisen sie ohne vorherige unterrichtung und zustimmung  ihrer agentur für arbeit  wird die bewilligung der leistung rückwirkend vom reisebeginn an aufge hoben vgl die » hinweise \\xa0zur\\xa0erstattungspflicht \\xa0in abschnitt 83 nähere informationen enthält das informationsblatt » „wissenswertes zum thema umzug und  reisen“ • eine\\xa0versicherungspflichtige \\xa0mindestens \\xa015 stunden wöchentlich umfassende beschäfti gung unter den auf dem arbeitsmarkt allgemein üblichen arbeitsbedingungen ausüben können und dürfen  betreuen sie aufsichtsbedürftige kinder oder pflegebedürftige personen muss die weitere betreuung sichergestellt sein wenn sie eine be \\xadschäftigung aufnehmen eine einschränkung auf teil \\xadzeit ist nur zulässig wenn die teilzeitbeschäftigung den üblichen bedingungen des für sie in betracht kommenden arbeitsmarktes entspricht• bereit sein zumutbaren vorschlägen zur teilnahme an massnahmen \\xa0der\\xa0beruflichen \\xa0eingliederung \\xa0nachzukommen• bereit sein jede zumutbare beschäftigung  anzu \\xadnehmen eine beschäftigung kann auch zumutbar sein wenn• sie nicht unbedingt ihrer ausbildung oder ihrer bisherigen beruflichen tätigkeit entspricht• der neue arbeitsplatz weiter als der bisherige von  ihrer wohnung entfernt ist• zur aufnahme der beschäftigung ein umzug  erforderlich ist', metadata={'source': 'data/merkblatt-fuer-arbeitslose_ba036520.pdf', 'page': 22}),\n",
       " Document(page_content='2 was müssen sie tun wenn arbeitslosigkeit eintritt24• die arbeitsbedingungen ungünstiger sind als die  bisherigen z  b 30   weniger als das entgelt das ihrer bemessung zugrunde liegt bezahlt wird• die dauer lage undoder verteilung der arbeitszeit ungünstiger istsind als bisher hinweiswährend einer beruflichen weiterbildung die nicht von der agentur für arbeit gefördert wird kann unter  bestimmten voraussetzungen das arbeitslosengeld weitergezahlt werden voraussetzung hierfür ist unter anderem die vorherige zustimmung der agentur für  arbeit erkundigen sie sich daher bitte vor beginn der weiterbildung bei ihrer agentur für arbeit was sie zu beachten habenzur gewährung von arbeitslosengeld bei einer von  der agentur für arbeit geförderten weiterbildung siehe » abschnitt 5bei teilnahme an massnahmen die zur verbesserung der eingliederungsaussichten beitragen  massnahmen zur aktivierung und beruflichen eingliederung können sie arbeitslosengeld weiter beziehen wenn die zuwei \\xadsung in diese massnahme bzw die bewilligung durch die agentur für arbeit vor teilnahmebeginn erfolgt istumzug ortsabwesenheitsie müssen für ihre agentur für arbeit erreichbar sein erreichbar im sinne der gesetzlichen vorschriften be \\xaddeutet dass sie an jedem werktag  von briefsendun \\xadgen der agentur für arbeit in ihrer wohnung kenntnis nehmen  können deshalb müssen sie mindestens  einmal am werktag ihren briefkasten leeren  am wochenende oder vor feiertagen reicht es aus wenn  sie die an samstagen oder tagen vor feiertagen', metadata={'source': 'data/merkblatt-fuer-arbeitslose_ba036520.pdf', 'page': 23}),\n",
       " Document(page_content='252 was müssen sie tun wenn arbeitslosigkeit eintritteingehende post am darauf folgenden sonn oder feier  tag zur kenntnis nehmen daher müssen sie es ihrer agentur für arbeit rechtzeitig mitteilen wenn sie auch innerhalb derselben gemeinde umziehen oder an einem werktag ganztags nicht zu hause sindwenn sie keine finanziellen nachteile erleiden wollen müssen sie ihrer agentur für arbeit jeden umzug  rechtzeitig vor dem umzugstermin am besten eine woche vorher mitteilen beachten sie bitte dass bei einem gestellten nachsendeantrag keine erreichbarkeit vorliegtsind sie an einem oder mehreren werktagen ganz tags unter der ihrer agentur für arbeit bekannten  anschrift nicht zu erreichen  sonstige ortsabwesen heit ist dies ohne leistungsrechtliche nachteile nur möglich wenn ihre agentur für arbeit vorher zuge \\xadstimmt hat hinweisteilen sie ihrer agentur für arbeit nach möglichkeit spätestens 1 woche vor dem umzug ihre neue  anschrift mit online  können  sie diese änderung auch  bequem unter » wwwarbeitsagenturde  eservices  im angemeldeten bereich mitteilenhäufig wird durch den umzug in einen anderen ort eine andere agentur für arbeit zuständig bei recht zeitiger mitteilung des umzuges erfahren sie von ihrer agentur für arbeit welche agentur für arbeit nunmehr für sie zuständig ist die neue agentur für arbeit wird sie zur meldung dort auffordern nehmen sie bitte die \\xadsen termin unbedingt wahr teilen sie ihren umzug erst nach dem umzugstag mit kann ihre leistung erst wieder ab dem tag ihrer mitteilung bewilligt werden zum thema ortsabwesenheit beachten sie bitte auch » abschnitt 25 ', metadata={'source': 'data/merkblatt-fuer-arbeitslose_ba036520.pdf', 'page': 24}),\n",
       " Document(page_content='2 was müssen sie tun wenn arbeitslosigkeit eintritt26 hinweisweitere information finden sie im informationsblatt  „wissenswertes zum thema umzug und reisen“ unter » wwwarbeitsagenturde  » downloadcenter »\\xa0arbeitslos \\xa0und\\xa0arbeit \\xa0 finden \\xa0» informationen zum arbeitslosengeld » merkblatt umzug und reisen bei bezug von arbeitslosengeldsind sie ausländischer arbeitnehmerin und besitzen einen aufenthaltstitel dürfen sie eine erwerbstätigkeit ausüben es sei denn ein gesetz bestimmt ein verbot jeder aufenthaltstitel muss erkennen lassen ob die ausübung einer erwerbstätigkeit erlaubt ist keiner  erlaubnis bedürfen – z  b – staatsangehörige der  mitgliedstaaten der europäischen union  des europä ischen wirtschaftsraumes und staatsangehörige der schweiz sind sie schülerin schüler  oder studentin student  einer schule hochschule oder sonstigen ausbildungs \\xadstätte können sie grundsätzlich kein arbeitslosengeld erhalten studentinnenstudenten stehen für die  vermittlungsbemühungen der agentur für arbeit ab dem offiziellen semesterbeginn nicht zur verfügung eine ausnahme gilt wenn sie nachweisen dass die objektiven anforderungen des ausbildungsganges eine ver sicherungspflichtige mindestens 15 stunden  wöchentlich umfassende beschäftigung neben der ausbildung oder in der zeit zwischen der immatrikula tion und dem offiziellen beginn der lehrveranstaltun \\xadgen zulassendie teilnahme an einer massnahme zur abklärung der\\xa0beruflichen \\xa0eignung \\xa0oder\\xa0an\\xa0einer\\xa0arbeitser probung  im rahmen der förderung der teilhabe am arbeitsleben schliesst die verfügbarkeit nicht aus', metadata={'source': 'data/merkblatt-fuer-arbeitslose_ba036520.pdf', 'page': 25})]"
      ]
     },
     "execution_count": 97,
     "metadata": {},
     "output_type": "execute_result"
    }
   ],
   "source": [
    "results"
   ]
  },
  {
   "cell_type": "markdown",
   "metadata": {},
   "source": [
    "# Create a custom Preprocessor - Example Remove All Numbers\n",
    "\n",
    "There are some weird numbers in the documents, so let's create a custom preprocessor which removes all numbers\n",
    "\n",
    "- The preprocessor class has one abstract method which we need to define `process_text()`\n",
    "  - this will get the string of the document, performs the string manipulation and needs to return the string back\n",
    "  - optional: we can define the `add_metadata()` if we want to edit the metadata of the document too\n",
    "- The preprocessor is build on pydantic base model"
   ]
  },
  {
   "cell_type": "code",
   "execution_count": 98,
   "metadata": {},
   "outputs": [],
   "source": [
    "from textprepper import Preprocessor\n",
    "from typing import Dict\n",
    "from langchain_core.documents import Document\n"
   ]
  },
  {
   "cell_type": "code",
   "execution_count": 99,
   "metadata": {},
   "outputs": [],
   "source": [
    "class RemoveAllNumbers(Preprocessor):\n",
    "    def process_text(self, text: str, *args, **kwargs) -> str:\n",
    "        return ''.join([char for char in text if not char.isdigit()])\n",
    "    \n",
    "    def add_metadata(self, doc: Document, **kwargs) -> Dict:\n",
    "        return {\"removed_all_numbers\": True}"
   ]
  },
  {
   "cell_type": "code",
   "execution_count": 103,
   "metadata": {},
   "outputs": [
    {
     "name": "stdout",
     "output_type": "stream",
     "text": [
      "2. Was müssen Sie tun, wenn Arbeitslosigkeit eintritt?\n",
      "22Welche konkreten Aktivitäten Sie im Rahmen der \n",
      "Arbeit  suche unternehmen bzw. wie Sie Ihre Eigen -\n",
      "bemühungen nachweisen müssen, entnehmen Sie \n",
      " Ihrer Eingliederungsvereinbarung bzw. der schriftlichen \n",
      "Festsetzung Ihrer Eigenbemühungen. Erbringen Sie \n",
      "die Pflichten im Zusammenhang mit den Eigenbemü ­\n",
      "hungen nicht, nicht rechtzeitig oder nicht vollständig, \n",
      "tritt eine Sperrzeit ein (siehe hierzu » Abschnitt 6) .\n",
      "Wollen Sie die Pflichten au\n"
     ]
    }
   ],
   "source": [
    "print(original.page_content[:print_index])"
   ]
  },
  {
   "cell_type": "code",
   "execution_count": 104,
   "metadata": {},
   "outputs": [
    {
     "name": "stdout",
     "output_type": "stream",
     "text": [
      ". Was müssen Sie tun, wenn Arbeitslosigkeit eintritt?\n",
      "Welche konkreten Aktivitäten Sie im Rahmen der \n",
      "Arbeit  suche unternehmen bzw. wie Sie Ihre Eigen -\n",
      "bemühungen nachweisen müssen, entnehmen Sie \n",
      " Ihrer Eingliederungsvereinbarung bzw. der schriftlichen \n",
      "Festsetzung Ihrer Eigenbemühungen. Erbringen Sie \n",
      "die Pflichten im Zusammenhang mit den Eigenbemü ­\n",
      "hungen nicht, nicht rechtzeitig oder nicht vollständig, \n",
      "tritt eine Sperrzeit ein (siehe hierzu » Abschnitt ) .\n",
      "Wollen Sie die Pflichten aus de\n",
      "{'source': 'data/merkblatt-fuer-arbeitslose_ba036520.pdf', 'page': 21, 'removed_all_numbers': True}\n"
     ]
    }
   ],
   "source": [
    "remove_numbers = RemoveAllNumbers()\n",
    "copy_doc = original.copy()\n",
    "\n",
    "print(remove_numbers(copy_doc).page_content[:print_index])\n",
    "print(copy_doc.metadata)"
   ]
  },
  {
   "cell_type": "code",
   "execution_count": null,
   "metadata": {},
   "outputs": [],
   "source": []
  }
 ],
 "metadata": {
  "kernelspec": {
   "display_name": "textprepper-a_Do2pGY-py3.11",
   "language": "python",
   "name": "python3"
  },
  "language_info": {
   "codemirror_mode": {
    "name": "ipython",
    "version": 3
   },
   "file_extension": ".py",
   "mimetype": "text/x-python",
   "name": "python",
   "nbconvert_exporter": "python",
   "pygments_lexer": "ipython3",
   "version": "3.11.7"
  }
 },
 "nbformat": 4,
 "nbformat_minor": 2
}
